{
  "nbformat": 4,
  "nbformat_minor": 0,
  "metadata": {
    "colab": {
      "provenance": []
    },
    "kernelspec": {
      "name": "python3",
      "display_name": "Python 3"
    },
    "language_info": {
      "name": "python"
    }
  },
  "cells": [
    {
      "cell_type": "markdown",
      "source": [
        "## Skim lit :many-to-one classification *italicized text*\n",
        "Input_shape=[none,embedding size]\n",
        "\n",
        "output_shape=[5]"
      ],
      "metadata": {
        "id": "EnPO-buVHTW5"
      }
    },
    {
      "cell_type": "code",
      "execution_count": null,
      "metadata": {
        "id": "WqvCvmBpF4cZ",
        "colab": {
          "base_uri": "https://localhost:8080/"
        },
        "outputId": "bd63fc69-037f-48ad-f633-2bae07a4f56c"
      },
      "outputs": [
        {
          "output_type": "stream",
          "name": "stdout",
          "text": [
            "fatal: destination path 'pubmed-rct' already exists and is not an empty directory.\n",
            "PubMed_200k_RCT\t\t\t\t       PubMed_20k_RCT_numbers_replaced_with_at_sign\n",
            "PubMed_200k_RCT_numbers_replaced_with_at_sign  README.md\n",
            "PubMed_20k_RCT\n"
          ]
        }
      ],
      "source": [
        "!git clone https://github.com/Franck-Dernoncourt/pubmed-rct.git\n",
        "!ls pubmed-rct\n"
      ]
    },
    {
      "cell_type": "code",
      "source": [
        "!ls pubmed-rct/PubMed_20k_RCT_numbers_replaced_with_at_sign\n"
      ],
      "metadata": {
        "colab": {
          "base_uri": "https://localhost:8080/"
        },
        "id": "yjO45yJ1An8r",
        "outputId": "17aefe54-09b1-4bd1-bf50-d4bbe5567727"
      },
      "execution_count": null,
      "outputs": [
        {
          "output_type": "stream",
          "name": "stdout",
          "text": [
            "dev.txt  test.txt  train.txt\n"
          ]
        }
      ]
    },
    {
      "cell_type": "code",
      "source": [
        "pip install --upgrade tensorflow\n"
      ],
      "metadata": {
        "colab": {
          "base_uri": "https://localhost:8080/"
        },
        "id": "f0fAAjXzTc4c",
        "outputId": "ba3c92b2-e745-4012-d8de-be60d0afed5a"
      },
      "execution_count": null,
      "outputs": [
        {
          "output_type": "stream",
          "name": "stdout",
          "text": [
            "Requirement already satisfied: tensorflow in /usr/local/lib/python3.10/dist-packages (2.17.0)\n",
            "Requirement already satisfied: absl-py>=1.0.0 in /usr/local/lib/python3.10/dist-packages (from tensorflow) (1.4.0)\n",
            "Requirement already satisfied: astunparse>=1.6.0 in /usr/local/lib/python3.10/dist-packages (from tensorflow) (1.6.3)\n",
            "Requirement already satisfied: flatbuffers>=24.3.25 in /usr/local/lib/python3.10/dist-packages (from tensorflow) (24.3.25)\n",
            "Requirement already satisfied: gast!=0.5.0,!=0.5.1,!=0.5.2,>=0.2.1 in /usr/local/lib/python3.10/dist-packages (from tensorflow) (0.6.0)\n",
            "Requirement already satisfied: google-pasta>=0.1.1 in /usr/local/lib/python3.10/dist-packages (from tensorflow) (0.2.0)\n",
            "Requirement already satisfied: h5py>=3.10.0 in /usr/local/lib/python3.10/dist-packages (from tensorflow) (3.11.0)\n",
            "Requirement already satisfied: libclang>=13.0.0 in /usr/local/lib/python3.10/dist-packages (from tensorflow) (18.1.1)\n",
            "Requirement already satisfied: ml-dtypes<0.5.0,>=0.3.1 in /usr/local/lib/python3.10/dist-packages (from tensorflow) (0.4.0)\n",
            "Requirement already satisfied: opt-einsum>=2.3.2 in /usr/local/lib/python3.10/dist-packages (from tensorflow) (3.3.0)\n",
            "Requirement already satisfied: packaging in /usr/local/lib/python3.10/dist-packages (from tensorflow) (24.1)\n",
            "Requirement already satisfied: protobuf!=4.21.0,!=4.21.1,!=4.21.2,!=4.21.3,!=4.21.4,!=4.21.5,<5.0.0dev,>=3.20.3 in /usr/local/lib/python3.10/dist-packages (from tensorflow) (3.20.3)\n",
            "Requirement already satisfied: requests<3,>=2.21.0 in /usr/local/lib/python3.10/dist-packages (from tensorflow) (2.32.3)\n",
            "Requirement already satisfied: setuptools in /usr/local/lib/python3.10/dist-packages (from tensorflow) (71.0.4)\n",
            "Requirement already satisfied: six>=1.12.0 in /usr/local/lib/python3.10/dist-packages (from tensorflow) (1.16.0)\n",
            "Requirement already satisfied: termcolor>=1.1.0 in /usr/local/lib/python3.10/dist-packages (from tensorflow) (2.4.0)\n",
            "Requirement already satisfied: typing-extensions>=3.6.6 in /usr/local/lib/python3.10/dist-packages (from tensorflow) (4.12.2)\n",
            "Requirement already satisfied: wrapt>=1.11.0 in /usr/local/lib/python3.10/dist-packages (from tensorflow) (1.16.0)\n",
            "Requirement already satisfied: grpcio<2.0,>=1.24.3 in /usr/local/lib/python3.10/dist-packages (from tensorflow) (1.64.1)\n",
            "Requirement already satisfied: tensorboard<2.18,>=2.17 in /usr/local/lib/python3.10/dist-packages (from tensorflow) (2.17.0)\n",
            "Requirement already satisfied: keras>=3.2.0 in /usr/local/lib/python3.10/dist-packages (from tensorflow) (3.4.1)\n",
            "Requirement already satisfied: tensorflow-io-gcs-filesystem>=0.23.1 in /usr/local/lib/python3.10/dist-packages (from tensorflow) (0.37.1)\n",
            "Requirement already satisfied: numpy<2.0.0,>=1.23.5 in /usr/local/lib/python3.10/dist-packages (from tensorflow) (1.26.4)\n",
            "Requirement already satisfied: wheel<1.0,>=0.23.0 in /usr/local/lib/python3.10/dist-packages (from astunparse>=1.6.0->tensorflow) (0.44.0)\n",
            "Requirement already satisfied: rich in /usr/local/lib/python3.10/dist-packages (from keras>=3.2.0->tensorflow) (13.7.1)\n",
            "Requirement already satisfied: namex in /usr/local/lib/python3.10/dist-packages (from keras>=3.2.0->tensorflow) (0.0.8)\n",
            "Requirement already satisfied: optree in /usr/local/lib/python3.10/dist-packages (from keras>=3.2.0->tensorflow) (0.12.1)\n",
            "Requirement already satisfied: charset-normalizer<4,>=2 in /usr/local/lib/python3.10/dist-packages (from requests<3,>=2.21.0->tensorflow) (3.3.2)\n",
            "Requirement already satisfied: idna<4,>=2.5 in /usr/local/lib/python3.10/dist-packages (from requests<3,>=2.21.0->tensorflow) (3.7)\n",
            "Requirement already satisfied: urllib3<3,>=1.21.1 in /usr/local/lib/python3.10/dist-packages (from requests<3,>=2.21.0->tensorflow) (2.0.7)\n",
            "Requirement already satisfied: certifi>=2017.4.17 in /usr/local/lib/python3.10/dist-packages (from requests<3,>=2.21.0->tensorflow) (2024.7.4)\n",
            "Requirement already satisfied: markdown>=2.6.8 in /usr/local/lib/python3.10/dist-packages (from tensorboard<2.18,>=2.17->tensorflow) (3.6)\n",
            "Requirement already satisfied: tensorboard-data-server<0.8.0,>=0.7.0 in /usr/local/lib/python3.10/dist-packages (from tensorboard<2.18,>=2.17->tensorflow) (0.7.2)\n",
            "Requirement already satisfied: werkzeug>=1.0.1 in /usr/local/lib/python3.10/dist-packages (from tensorboard<2.18,>=2.17->tensorflow) (3.0.3)\n",
            "Requirement already satisfied: MarkupSafe>=2.1.1 in /usr/local/lib/python3.10/dist-packages (from werkzeug>=1.0.1->tensorboard<2.18,>=2.17->tensorflow) (2.1.5)\n",
            "Requirement already satisfied: markdown-it-py>=2.2.0 in /usr/local/lib/python3.10/dist-packages (from rich->keras>=3.2.0->tensorflow) (3.0.0)\n",
            "Requirement already satisfied: pygments<3.0.0,>=2.13.0 in /usr/local/lib/python3.10/dist-packages (from rich->keras>=3.2.0->tensorflow) (2.16.1)\n",
            "Requirement already satisfied: mdurl~=0.1 in /usr/local/lib/python3.10/dist-packages (from markdown-it-py>=2.2.0->rich->keras>=3.2.0->tensorflow) (0.1.2)\n"
          ]
        }
      ]
    },
    {
      "cell_type": "code",
      "source": [
        "data_dir=\"/content/pubmed-rct/PubMed_20k_RCT_numbers_replaced_with_at_sign/\""
      ],
      "metadata": {
        "id": "NRZXR8FiB0Tr"
      },
      "execution_count": null,
      "outputs": []
    },
    {
      "cell_type": "code",
      "source": [
        "import os\n",
        "\n",
        "filenames=[data_dir+filename for filename in os.listdir(data_dir)]\n",
        "filenames"
      ],
      "metadata": {
        "colab": {
          "base_uri": "https://localhost:8080/"
        },
        "id": "eVI48OLDBoJi",
        "outputId": "6b5c7220-c433-422a-a2dc-dd7d60cdb8a2"
      },
      "execution_count": null,
      "outputs": [
        {
          "output_type": "execute_result",
          "data": {
            "text/plain": [
              "['/content/pubmed-rct/PubMed_20k_RCT_numbers_replaced_with_at_sign/train.txt',\n",
              " '/content/pubmed-rct/PubMed_20k_RCT_numbers_replaced_with_at_sign/test.txt',\n",
              " '/content/pubmed-rct/PubMed_20k_RCT_numbers_replaced_with_at_sign/dev.txt']"
            ]
          },
          "metadata": {},
          "execution_count": 68
        }
      ]
    },
    {
      "cell_type": "code",
      "source": [
        "#Preprocess data\n",
        "def get_lines(filename):\n",
        "  with open(filename,\"r\") as f:\n",
        "    return f.readlines()\n"
      ],
      "metadata": {
        "id": "REKDOBdqCJUV"
      },
      "execution_count": null,
      "outputs": []
    },
    {
      "cell_type": "code",
      "source": [
        "import numpy as np\n",
        "train_lines=get_lines(filenames[1])\n",
        "train_lines[:10]"
      ],
      "metadata": {
        "colab": {
          "base_uri": "https://localhost:8080/"
        },
        "id": "czO61YrXCxuR",
        "outputId": "2c432f4c-c3a9-411a-e549-9edcafe452fb"
      },
      "execution_count": null,
      "outputs": [
        {
          "output_type": "execute_result",
          "data": {
            "text/plain": [
              "['###24845963\\n',\n",
              " 'BACKGROUND\\tThis study analyzed liver function abnormalities in heart failure patients admitted with severe acute decompensated heart failure ( ADHF ) .\\n',\n",
              " 'RESULTS\\tA post hoc analysis was conducted with the use of data from the Evaluation Study of Congestive Heart Failure and Pulmonary Artery Catheterization Effectiveness ( ESCAPE ) .\\n',\n",
              " 'RESULTS\\tLiver function tests ( LFTs ) were measured at @ time points from baseline , at discharge , and up to @ months follow-up .\\n',\n",
              " 'RESULTS\\tSurvival analyses were used to assess the association between admission Model of End-Stage Liver Disease Excluding International Normalized Ratio ( MELD-XI ) scores and patient outcome.There was a high prevalence of abnormal baseline ( admission ) LFTs ( albumin @ % , aspartate transaminase @ % , alanine transaminase @ % , and total bilirubin @ % ) .\\n',\n",
              " \"RESULTS\\tThe percentage of patients with abnormal LFTs decreased significantly from baseline to @-months ' follow-up .\\n\",\n",
              " 'RESULTS\\tWhen mean hemodynamic profiles were compared in patients with abnormal versus normal LFTs , elevated total bilirubin was associated with a significantly lower cardiac index ( @ vs @ ; P < @ ) and higher central venous pressure ( @ vs @ ; P = @ ) .\\n',\n",
              " 'RESULTS\\tMultivariable analyses revealed that patients with elevated MELD-XI scores ( @ ) had a @-fold ( hazard ratio@ @ , @ % confidence interval @-@ @ ) increased risk of death , rehospitalization , or transplantation after adjusting for baseline LFTs , age , sex , race , body mass index , diabetes , and systolic blood pressure .\\n',\n",
              " 'CONCLUSIONS\\tAbnormal LFTs are common in the ADHF population and are a dynamic marker of an impaired hemodynamic state .\\n',\n",
              " 'CONCLUSIONS\\tElevated MELD-XI scores are associated with poor outcomes among patients admitted with ADHF .\\n']"
            ]
          },
          "metadata": {},
          "execution_count": 70
        }
      ]
    },
    {
      "cell_type": "code",
      "source": [
        "def preprocess_text_lines(filename):\n",
        "  abstract_samples=[]\n",
        "  abstract_lines=\"\"\n",
        "  input_lines=get_lines(filename)\n",
        "  for line in input_lines:\n",
        "    if line.startswith(\"###\"):\n",
        "      abstract_id=line\n",
        "      abstract_lines=\"\"\n",
        "    elif line.isspace():\n",
        "      abstract_line_split=abstract_lines.splitlines()\n",
        "      for abstract_line_no,abstract_line in enumerate(abstract_line_split):\n",
        "        line_data={}\n",
        "        split_sentence=abstract_line.split(\"\\t\")\n",
        "        label=split_sentence[0]\n",
        "        sentence=split_sentence[1:]\n",
        "        line_data[\"target\"]=label\n",
        "        line_data[\"text\"]=str(sentence).lower()\n",
        "        line_data[\"line_number\"]=abstract_line_no\n",
        "        line_data[\"total_lines\"]=len(abstract_line_split)\n",
        "        abstract_samples.append(line_data)\n",
        "    else:\n",
        "      abstract_lines+=line\n",
        "\n",
        "  return abstract_samples"
      ],
      "metadata": {
        "id": "SG7M6SuLNW1g"
      },
      "execution_count": null,
      "outputs": []
    },
    {
      "cell_type": "code",
      "source": [
        "train_samples=preprocess_text_lines(data_dir+\"train.txt\")\n",
        "val_samples=preprocess_text_lines(data_dir+\"dev.txt\")\n",
        "test_samples=preprocess_text_lines(data_dir+\"test.txt\")"
      ],
      "metadata": {
        "id": "JxOPRmVcQzC0"
      },
      "execution_count": null,
      "outputs": []
    },
    {
      "cell_type": "code",
      "source": [
        "train_samples[:2]"
      ],
      "metadata": {
        "colab": {
          "base_uri": "https://localhost:8080/"
        },
        "id": "Hnx81FYTRF_V",
        "outputId": "62b71dcd-e170-4a62-9d27-414f86cbeaa2"
      },
      "execution_count": null,
      "outputs": [
        {
          "output_type": "execute_result",
          "data": {
            "text/plain": [
              "[{'target': 'OBJECTIVE',\n",
              "  'text': \"['to investigate the efficacy of @ weeks of daily low-dose oral prednisolone in improving pain , mobility , and systemic low-grade inflammation in the short term and whether the effect would be sustained at @ weeks in older adults with moderate to severe knee osteoarthritis ( oa ) .']\",\n",
              "  'line_number': 0,\n",
              "  'total_lines': 12},\n",
              " {'target': 'METHODS',\n",
              "  'text': \"['a total of @ patients with primary knee oa were randomized @:@ ; @ received @ mg/day of prednisolone and @ received placebo for @ weeks .']\",\n",
              "  'line_number': 1,\n",
              "  'total_lines': 12}]"
            ]
          },
          "metadata": {},
          "execution_count": 73
        }
      ]
    },
    {
      "cell_type": "code",
      "source": [
        "import pandas as pd\n",
        "train_df=pd.DataFrame(train_samples)\n",
        "val_df=pd.DataFrame(val_samples)\n",
        "test_df=pd.DataFrame(test_samples)"
      ],
      "metadata": {
        "id": "k5vHP3rzuTGf"
      },
      "execution_count": null,
      "outputs": []
    },
    {
      "cell_type": "code",
      "source": [
        "train_df"
      ],
      "metadata": {
        "colab": {
          "base_uri": "https://localhost:8080/",
          "height": 597
        },
        "id": "dtzWBAW2ufFQ",
        "outputId": "511a0d27-8ca5-4ed8-de18-6c7d5b83ceb9"
      },
      "execution_count": null,
      "outputs": [
        {
          "output_type": "execute_result",
          "data": {
            "text/plain": [
              "             target                                               text  \\\n",
              "0         OBJECTIVE  ['to investigate the efficacy of @ weeks of da...   \n",
              "1           METHODS  ['a total of @ patients with primary knee oa w...   \n",
              "2           METHODS  ['outcome measures included pain reduction and...   \n",
              "3           METHODS  ['pain was assessed using the visual analog pa...   \n",
              "4           METHODS  ['secondary outcome measures included the west...   \n",
              "...             ...                                                ...   \n",
              "180035      RESULTS  ['for the absolute change in percent atheroma ...   \n",
              "180036      RESULTS  ['for pav , a significantly greater percentage...   \n",
              "180037      RESULTS  ['both strategies had acceptable side effect p...   \n",
              "180038  CONCLUSIONS  ['compared with standard statin monotherapy , ...   \n",
              "180039  CONCLUSIONS  ['( plaque regression with cholesterol absorpt...   \n",
              "\n",
              "        line_number  total_lines  \n",
              "0                 0           12  \n",
              "1                 1           12  \n",
              "2                 2           12  \n",
              "3                 3           12  \n",
              "4                 4           12  \n",
              "...             ...          ...  \n",
              "180035            7           12  \n",
              "180036            8           12  \n",
              "180037            9           12  \n",
              "180038           10           12  \n",
              "180039           11           12  \n",
              "\n",
              "[180040 rows x 4 columns]"
            ],
            "text/html": [
              "\n",
              "  <div id=\"df-67a4e92f-96b3-495a-96fc-409312bd1c7d\" class=\"colab-df-container\">\n",
              "    <div>\n",
              "<style scoped>\n",
              "    .dataframe tbody tr th:only-of-type {\n",
              "        vertical-align: middle;\n",
              "    }\n",
              "\n",
              "    .dataframe tbody tr th {\n",
              "        vertical-align: top;\n",
              "    }\n",
              "\n",
              "    .dataframe thead th {\n",
              "        text-align: right;\n",
              "    }\n",
              "</style>\n",
              "<table border=\"1\" class=\"dataframe\">\n",
              "  <thead>\n",
              "    <tr style=\"text-align: right;\">\n",
              "      <th></th>\n",
              "      <th>target</th>\n",
              "      <th>text</th>\n",
              "      <th>line_number</th>\n",
              "      <th>total_lines</th>\n",
              "    </tr>\n",
              "  </thead>\n",
              "  <tbody>\n",
              "    <tr>\n",
              "      <th>0</th>\n",
              "      <td>OBJECTIVE</td>\n",
              "      <td>['to investigate the efficacy of @ weeks of da...</td>\n",
              "      <td>0</td>\n",
              "      <td>12</td>\n",
              "    </tr>\n",
              "    <tr>\n",
              "      <th>1</th>\n",
              "      <td>METHODS</td>\n",
              "      <td>['a total of @ patients with primary knee oa w...</td>\n",
              "      <td>1</td>\n",
              "      <td>12</td>\n",
              "    </tr>\n",
              "    <tr>\n",
              "      <th>2</th>\n",
              "      <td>METHODS</td>\n",
              "      <td>['outcome measures included pain reduction and...</td>\n",
              "      <td>2</td>\n",
              "      <td>12</td>\n",
              "    </tr>\n",
              "    <tr>\n",
              "      <th>3</th>\n",
              "      <td>METHODS</td>\n",
              "      <td>['pain was assessed using the visual analog pa...</td>\n",
              "      <td>3</td>\n",
              "      <td>12</td>\n",
              "    </tr>\n",
              "    <tr>\n",
              "      <th>4</th>\n",
              "      <td>METHODS</td>\n",
              "      <td>['secondary outcome measures included the west...</td>\n",
              "      <td>4</td>\n",
              "      <td>12</td>\n",
              "    </tr>\n",
              "    <tr>\n",
              "      <th>...</th>\n",
              "      <td>...</td>\n",
              "      <td>...</td>\n",
              "      <td>...</td>\n",
              "      <td>...</td>\n",
              "    </tr>\n",
              "    <tr>\n",
              "      <th>180035</th>\n",
              "      <td>RESULTS</td>\n",
              "      <td>['for the absolute change in percent atheroma ...</td>\n",
              "      <td>7</td>\n",
              "      <td>12</td>\n",
              "    </tr>\n",
              "    <tr>\n",
              "      <th>180036</th>\n",
              "      <td>RESULTS</td>\n",
              "      <td>['for pav , a significantly greater percentage...</td>\n",
              "      <td>8</td>\n",
              "      <td>12</td>\n",
              "    </tr>\n",
              "    <tr>\n",
              "      <th>180037</th>\n",
              "      <td>RESULTS</td>\n",
              "      <td>['both strategies had acceptable side effect p...</td>\n",
              "      <td>9</td>\n",
              "      <td>12</td>\n",
              "    </tr>\n",
              "    <tr>\n",
              "      <th>180038</th>\n",
              "      <td>CONCLUSIONS</td>\n",
              "      <td>['compared with standard statin monotherapy , ...</td>\n",
              "      <td>10</td>\n",
              "      <td>12</td>\n",
              "    </tr>\n",
              "    <tr>\n",
              "      <th>180039</th>\n",
              "      <td>CONCLUSIONS</td>\n",
              "      <td>['( plaque regression with cholesterol absorpt...</td>\n",
              "      <td>11</td>\n",
              "      <td>12</td>\n",
              "    </tr>\n",
              "  </tbody>\n",
              "</table>\n",
              "<p>180040 rows × 4 columns</p>\n",
              "</div>\n",
              "    <div class=\"colab-df-buttons\">\n",
              "\n",
              "  <div class=\"colab-df-container\">\n",
              "    <button class=\"colab-df-convert\" onclick=\"convertToInteractive('df-67a4e92f-96b3-495a-96fc-409312bd1c7d')\"\n",
              "            title=\"Convert this dataframe to an interactive table.\"\n",
              "            style=\"display:none;\">\n",
              "\n",
              "  <svg xmlns=\"http://www.w3.org/2000/svg\" height=\"24px\" viewBox=\"0 -960 960 960\">\n",
              "    <path d=\"M120-120v-720h720v720H120Zm60-500h600v-160H180v160Zm220 220h160v-160H400v160Zm0 220h160v-160H400v160ZM180-400h160v-160H180v160Zm440 0h160v-160H620v160ZM180-180h160v-160H180v160Zm440 0h160v-160H620v160Z\"/>\n",
              "  </svg>\n",
              "    </button>\n",
              "\n",
              "  <style>\n",
              "    .colab-df-container {\n",
              "      display:flex;\n",
              "      gap: 12px;\n",
              "    }\n",
              "\n",
              "    .colab-df-convert {\n",
              "      background-color: #E8F0FE;\n",
              "      border: none;\n",
              "      border-radius: 50%;\n",
              "      cursor: pointer;\n",
              "      display: none;\n",
              "      fill: #1967D2;\n",
              "      height: 32px;\n",
              "      padding: 0 0 0 0;\n",
              "      width: 32px;\n",
              "    }\n",
              "\n",
              "    .colab-df-convert:hover {\n",
              "      background-color: #E2EBFA;\n",
              "      box-shadow: 0px 1px 2px rgba(60, 64, 67, 0.3), 0px 1px 3px 1px rgba(60, 64, 67, 0.15);\n",
              "      fill: #174EA6;\n",
              "    }\n",
              "\n",
              "    .colab-df-buttons div {\n",
              "      margin-bottom: 4px;\n",
              "    }\n",
              "\n",
              "    [theme=dark] .colab-df-convert {\n",
              "      background-color: #3B4455;\n",
              "      fill: #D2E3FC;\n",
              "    }\n",
              "\n",
              "    [theme=dark] .colab-df-convert:hover {\n",
              "      background-color: #434B5C;\n",
              "      box-shadow: 0px 1px 3px 1px rgba(0, 0, 0, 0.15);\n",
              "      filter: drop-shadow(0px 1px 2px rgba(0, 0, 0, 0.3));\n",
              "      fill: #FFFFFF;\n",
              "    }\n",
              "  </style>\n",
              "\n",
              "    <script>\n",
              "      const buttonEl =\n",
              "        document.querySelector('#df-67a4e92f-96b3-495a-96fc-409312bd1c7d button.colab-df-convert');\n",
              "      buttonEl.style.display =\n",
              "        google.colab.kernel.accessAllowed ? 'block' : 'none';\n",
              "\n",
              "      async function convertToInteractive(key) {\n",
              "        const element = document.querySelector('#df-67a4e92f-96b3-495a-96fc-409312bd1c7d');\n",
              "        const dataTable =\n",
              "          await google.colab.kernel.invokeFunction('convertToInteractive',\n",
              "                                                    [key], {});\n",
              "        if (!dataTable) return;\n",
              "\n",
              "        const docLinkHtml = 'Like what you see? Visit the ' +\n",
              "          '<a target=\"_blank\" href=https://colab.research.google.com/notebooks/data_table.ipynb>data table notebook</a>'\n",
              "          + ' to learn more about interactive tables.';\n",
              "        element.innerHTML = '';\n",
              "        dataTable['output_type'] = 'display_data';\n",
              "        await google.colab.output.renderOutput(dataTable, element);\n",
              "        const docLink = document.createElement('div');\n",
              "        docLink.innerHTML = docLinkHtml;\n",
              "        element.appendChild(docLink);\n",
              "      }\n",
              "    </script>\n",
              "  </div>\n",
              "\n",
              "\n",
              "<div id=\"df-83d812fa-166f-4a98-a757-5f173e14a7c3\">\n",
              "  <button class=\"colab-df-quickchart\" onclick=\"quickchart('df-83d812fa-166f-4a98-a757-5f173e14a7c3')\"\n",
              "            title=\"Suggest charts\"\n",
              "            style=\"display:none;\">\n",
              "\n",
              "<svg xmlns=\"http://www.w3.org/2000/svg\" height=\"24px\"viewBox=\"0 0 24 24\"\n",
              "     width=\"24px\">\n",
              "    <g>\n",
              "        <path d=\"M19 3H5c-1.1 0-2 .9-2 2v14c0 1.1.9 2 2 2h14c1.1 0 2-.9 2-2V5c0-1.1-.9-2-2-2zM9 17H7v-7h2v7zm4 0h-2V7h2v10zm4 0h-2v-4h2v4z\"/>\n",
              "    </g>\n",
              "</svg>\n",
              "  </button>\n",
              "\n",
              "<style>\n",
              "  .colab-df-quickchart {\n",
              "      --bg-color: #E8F0FE;\n",
              "      --fill-color: #1967D2;\n",
              "      --hover-bg-color: #E2EBFA;\n",
              "      --hover-fill-color: #174EA6;\n",
              "      --disabled-fill-color: #AAA;\n",
              "      --disabled-bg-color: #DDD;\n",
              "  }\n",
              "\n",
              "  [theme=dark] .colab-df-quickchart {\n",
              "      --bg-color: #3B4455;\n",
              "      --fill-color: #D2E3FC;\n",
              "      --hover-bg-color: #434B5C;\n",
              "      --hover-fill-color: #FFFFFF;\n",
              "      --disabled-bg-color: #3B4455;\n",
              "      --disabled-fill-color: #666;\n",
              "  }\n",
              "\n",
              "  .colab-df-quickchart {\n",
              "    background-color: var(--bg-color);\n",
              "    border: none;\n",
              "    border-radius: 50%;\n",
              "    cursor: pointer;\n",
              "    display: none;\n",
              "    fill: var(--fill-color);\n",
              "    height: 32px;\n",
              "    padding: 0;\n",
              "    width: 32px;\n",
              "  }\n",
              "\n",
              "  .colab-df-quickchart:hover {\n",
              "    background-color: var(--hover-bg-color);\n",
              "    box-shadow: 0 1px 2px rgba(60, 64, 67, 0.3), 0 1px 3px 1px rgba(60, 64, 67, 0.15);\n",
              "    fill: var(--button-hover-fill-color);\n",
              "  }\n",
              "\n",
              "  .colab-df-quickchart-complete:disabled,\n",
              "  .colab-df-quickchart-complete:disabled:hover {\n",
              "    background-color: var(--disabled-bg-color);\n",
              "    fill: var(--disabled-fill-color);\n",
              "    box-shadow: none;\n",
              "  }\n",
              "\n",
              "  .colab-df-spinner {\n",
              "    border: 2px solid var(--fill-color);\n",
              "    border-color: transparent;\n",
              "    border-bottom-color: var(--fill-color);\n",
              "    animation:\n",
              "      spin 1s steps(1) infinite;\n",
              "  }\n",
              "\n",
              "  @keyframes spin {\n",
              "    0% {\n",
              "      border-color: transparent;\n",
              "      border-bottom-color: var(--fill-color);\n",
              "      border-left-color: var(--fill-color);\n",
              "    }\n",
              "    20% {\n",
              "      border-color: transparent;\n",
              "      border-left-color: var(--fill-color);\n",
              "      border-top-color: var(--fill-color);\n",
              "    }\n",
              "    30% {\n",
              "      border-color: transparent;\n",
              "      border-left-color: var(--fill-color);\n",
              "      border-top-color: var(--fill-color);\n",
              "      border-right-color: var(--fill-color);\n",
              "    }\n",
              "    40% {\n",
              "      border-color: transparent;\n",
              "      border-right-color: var(--fill-color);\n",
              "      border-top-color: var(--fill-color);\n",
              "    }\n",
              "    60% {\n",
              "      border-color: transparent;\n",
              "      border-right-color: var(--fill-color);\n",
              "    }\n",
              "    80% {\n",
              "      border-color: transparent;\n",
              "      border-right-color: var(--fill-color);\n",
              "      border-bottom-color: var(--fill-color);\n",
              "    }\n",
              "    90% {\n",
              "      border-color: transparent;\n",
              "      border-bottom-color: var(--fill-color);\n",
              "    }\n",
              "  }\n",
              "</style>\n",
              "\n",
              "  <script>\n",
              "    async function quickchart(key) {\n",
              "      const quickchartButtonEl =\n",
              "        document.querySelector('#' + key + ' button');\n",
              "      quickchartButtonEl.disabled = true;  // To prevent multiple clicks.\n",
              "      quickchartButtonEl.classList.add('colab-df-spinner');\n",
              "      try {\n",
              "        const charts = await google.colab.kernel.invokeFunction(\n",
              "            'suggestCharts', [key], {});\n",
              "      } catch (error) {\n",
              "        console.error('Error during call to suggestCharts:', error);\n",
              "      }\n",
              "      quickchartButtonEl.classList.remove('colab-df-spinner');\n",
              "      quickchartButtonEl.classList.add('colab-df-quickchart-complete');\n",
              "    }\n",
              "    (() => {\n",
              "      let quickchartButtonEl =\n",
              "        document.querySelector('#df-83d812fa-166f-4a98-a757-5f173e14a7c3 button');\n",
              "      quickchartButtonEl.style.display =\n",
              "        google.colab.kernel.accessAllowed ? 'block' : 'none';\n",
              "    })();\n",
              "  </script>\n",
              "</div>\n",
              "\n",
              "  <div id=\"id_6b5d07fd-f877-44af-9188-385d74df9451\">\n",
              "    <style>\n",
              "      .colab-df-generate {\n",
              "        background-color: #E8F0FE;\n",
              "        border: none;\n",
              "        border-radius: 50%;\n",
              "        cursor: pointer;\n",
              "        display: none;\n",
              "        fill: #1967D2;\n",
              "        height: 32px;\n",
              "        padding: 0 0 0 0;\n",
              "        width: 32px;\n",
              "      }\n",
              "\n",
              "      .colab-df-generate:hover {\n",
              "        background-color: #E2EBFA;\n",
              "        box-shadow: 0px 1px 2px rgba(60, 64, 67, 0.3), 0px 1px 3px 1px rgba(60, 64, 67, 0.15);\n",
              "        fill: #174EA6;\n",
              "      }\n",
              "\n",
              "      [theme=dark] .colab-df-generate {\n",
              "        background-color: #3B4455;\n",
              "        fill: #D2E3FC;\n",
              "      }\n",
              "\n",
              "      [theme=dark] .colab-df-generate:hover {\n",
              "        background-color: #434B5C;\n",
              "        box-shadow: 0px 1px 3px 1px rgba(0, 0, 0, 0.15);\n",
              "        filter: drop-shadow(0px 1px 2px rgba(0, 0, 0, 0.3));\n",
              "        fill: #FFFFFF;\n",
              "      }\n",
              "    </style>\n",
              "    <button class=\"colab-df-generate\" onclick=\"generateWithVariable('train_df')\"\n",
              "            title=\"Generate code using this dataframe.\"\n",
              "            style=\"display:none;\">\n",
              "\n",
              "  <svg xmlns=\"http://www.w3.org/2000/svg\" height=\"24px\"viewBox=\"0 0 24 24\"\n",
              "       width=\"24px\">\n",
              "    <path d=\"M7,19H8.4L18.45,9,17,7.55,7,17.6ZM5,21V16.75L18.45,3.32a2,2,0,0,1,2.83,0l1.4,1.43a1.91,1.91,0,0,1,.58,1.4,1.91,1.91,0,0,1-.58,1.4L9.25,21ZM18.45,9,17,7.55Zm-12,3A5.31,5.31,0,0,0,4.9,8.1,5.31,5.31,0,0,0,1,6.5,5.31,5.31,0,0,0,4.9,4.9,5.31,5.31,0,0,0,6.5,1,5.31,5.31,0,0,0,8.1,4.9,5.31,5.31,0,0,0,12,6.5,5.46,5.46,0,0,0,6.5,12Z\"/>\n",
              "  </svg>\n",
              "    </button>\n",
              "    <script>\n",
              "      (() => {\n",
              "      const buttonEl =\n",
              "        document.querySelector('#id_6b5d07fd-f877-44af-9188-385d74df9451 button.colab-df-generate');\n",
              "      buttonEl.style.display =\n",
              "        google.colab.kernel.accessAllowed ? 'block' : 'none';\n",
              "\n",
              "      buttonEl.onclick = () => {\n",
              "        google.colab.notebook.generateWithVariable('train_df');\n",
              "      }\n",
              "      })();\n",
              "    </script>\n",
              "  </div>\n",
              "\n",
              "    </div>\n",
              "  </div>\n"
            ],
            "application/vnd.google.colaboratory.intrinsic+json": {
              "type": "dataframe",
              "variable_name": "train_df"
            }
          },
          "metadata": {},
          "execution_count": 75
        }
      ]
    },
    {
      "cell_type": "code",
      "source": [
        "train_df.total_lines.plot.hist();"
      ],
      "metadata": {
        "colab": {
          "base_uri": "https://localhost:8080/",
          "height": 431
        },
        "id": "0CPmmLuhwf_1",
        "outputId": "68b7db4b-85d6-4823-b5a9-21a5869e6443"
      },
      "execution_count": null,
      "outputs": [
        {
          "output_type": "display_data",
          "data": {
            "text/plain": [
              "<Figure size 640x480 with 1 Axes>"
            ],
            "image/png": "[encoded data removed]"
          },
          "metadata": {}
        }
      ]
    },
    {
      "cell_type": "code",
      "source": [
        "train_sentences=train_df[\"text\"].tolist()\n",
        "val_sentences=val_df[\"text\"].tolist()\n",
        "test_sentences=test_df[\"text\"].tolist()"
      ],
      "metadata": {
        "id": "G-wOWsxpwk9U"
      },
      "execution_count": null,
      "outputs": []
    },
    {
      "cell_type": "code",
      "source": [
        "train_sentences[:10]"
      ],
      "metadata": {
        "colab": {
          "base_uri": "https://localhost:8080/"
        },
        "id": "KSEK9XORw6Gn",
        "outputId": "c84be9e2-a203-44af-ded2-378f40d342fd"
      },
      "execution_count": null,
      "outputs": [
        {
          "output_type": "execute_result",
          "data": {
            "text/plain": [
              "[\"['to investigate the efficacy of @ weeks of daily low-dose oral prednisolone in improving pain , mobility , and systemic low-grade inflammation in the short term and whether the effect would be sustained at @ weeks in older adults with moderate to severe knee osteoarthritis ( oa ) .']\",\n",
              " \"['a total of @ patients with primary knee oa were randomized @:@ ; @ received @ mg/day of prednisolone and @ received placebo for @ weeks .']\",\n",
              " \"['outcome measures included pain reduction and improvement in function scores and systemic inflammation markers .']\",\n",
              " \"['pain was assessed using the visual analog pain scale ( @-@ mm ) .']\",\n",
              " \"['secondary outcome measures included the western ontario and mcmaster universities osteoarthritis index scores , patient global assessment ( pga ) of the severity of knee oa , and @-min walk distance ( @mwd ) .']\",\n",
              " \"['serum levels of interleukin @ ( il-@ ) , il-@ , tumor necrosis factor ( tnf ) - , and high-sensitivity c-reactive protein ( hscrp ) were measured .']\",\n",
              " \"['there was a clinically relevant reduction in the intervention group compared to the placebo group for knee pain , physical function , pga , and @mwd at @ weeks .']\",\n",
              " \"['the mean difference between treatment arms ( @ % ci ) was @ ( @-@ @ ) , p < @ ; @ ( @-@ @ ) , p < @ ; @ ( @-@ @ ) , p < @ ; and @ ( @-@ @ ) , p < @ , respectively .']\",\n",
              " \"['further , there was a clinically relevant reduction in the serum levels of il-@ , il-@ , tnf - , and hscrp at @ weeks in the intervention group when compared to the placebo group .']\",\n",
              " \"['these differences remained significant at @ weeks .']\"]"
            ]
          },
          "metadata": {},
          "execution_count": 78
        }
      ]
    },
    {
      "cell_type": "code",
      "source": [
        "#visualising the no of sentences per label\n",
        "methods=train_df[\"target\"].value_counts()\n",
        "methods=methods.transpose()\n",
        "plot=pd.DataFrame(methods).plot(kind=\"bar\",figsize=(10,7))"
      ],
      "metadata": {
        "colab": {
          "base_uri": "https://localhost:8080/",
          "height": 540
        },
        "id": "1a2AX4vSyPoI",
        "outputId": "5f53162b-ede3-4182-9ede-2befd51e0b1a"
      },
      "execution_count": null,
      "outputs": [
        {
          "output_type": "display_data",
          "data": {
            "text/plain": [
              "<Figure size 1000x700 with 1 Axes>"
            ],
            "image/png": "[encoded data removed]"
          },
          "metadata": {}
        }
      ]
    },
    {
      "cell_type": "markdown",
      "source": [
        "#make numeric labels"
      ],
      "metadata": {
        "id": "OXosYi53062W"
      }
    },
    {
      "cell_type": "code",
      "source": [],
      "metadata": {
        "id": "l_Cn7cKY21ry"
      },
      "execution_count": null,
      "outputs": []
    },
    {
      "cell_type": "markdown",
      "source": [
        "make one hot encoder"
      ],
      "metadata": {
        "id": "4sh_J-LX3_Vh"
      }
    },
    {
      "cell_type": "code",
      "source": [
        "##making numeric labels\n",
        "from sklearn.preprocessing import OneHotEncoder\n",
        "one_hot_encoder=OneHotEncoder(sparse=False)\n",
        "train_labels_one_hot=one_hot_encoder.fit_transform(train_df[\"target\"].to_numpy().reshape(1,-1))\n",
        "val_labels_one_hot=one_hot_encoder.fit_transform(val_df[\"target\"].to_numpy().reshape(1,-1))\n",
        "test_labels_one_hot=one_hot_encoder.fit_transform(test_df[\"target\"].to_numpy().reshape(1,-1))\n",
        "train_labels_one_hot"
      ],
      "metadata": {
        "colab": {
          "base_uri": "https://localhost:8080/"
        },
        "id": "2cL7r0Ui0yd9",
        "outputId": "9573eb8a-da53-47a5-ff73-00e396fe570c"
      },
      "execution_count": null,
      "outputs": [
        {
          "output_type": "stream",
          "name": "stderr",
          "text": [
            "/usr/local/lib/python3.10/dist-packages/sklearn/preprocessing/_encoders.py:975: FutureWarning: `sparse` was renamed to `sparse_output` in version 1.2 and will be removed in 1.4. `sparse_output` is ignored unless you leave `sparse` to its default value.\n",
            "  warnings.warn(\n",
            "/usr/local/lib/python3.10/dist-packages/sklearn/preprocessing/_encoders.py:975: FutureWarning: `sparse` was renamed to `sparse_output` in version 1.2 and will be removed in 1.4. `sparse_output` is ignored unless you leave `sparse` to its default value.\n",
            "  warnings.warn(\n",
            "/usr/local/lib/python3.10/dist-packages/sklearn/preprocessing/_encoders.py:975: FutureWarning: `sparse` was renamed to `sparse_output` in version 1.2 and will be removed in 1.4. `sparse_output` is ignored unless you leave `sparse` to its default value.\n",
            "  warnings.warn(\n"
          ]
        },
        {
          "output_type": "execute_result",
          "data": {
            "text/plain": [
              "array([[1., 1., 1., ..., 1., 1., 1.]])"
            ]
          },
          "metadata": {},
          "execution_count": 80
        }
      ]
    },
    {
      "cell_type": "code",
      "source": [
        "import tensorflow as tf\n",
        "tf.constant(train_labels_one_hot)"
      ],
      "metadata": {
        "colab": {
          "base_uri": "https://localhost:8080/"
        },
        "id": "yGBjrjlD3ILL",
        "outputId": "7a70ed19-af49-4561-aacd-b081863ecacb"
      },
      "execution_count": null,
      "outputs": [
        {
          "output_type": "execute_result",
          "data": {
            "text/plain": [
              "<tf.Tensor: shape=(1, 180040), dtype=float64, numpy=array([[1., 1., 1., ..., 1., 1., 1.]])>"
            ]
          },
          "metadata": {},
          "execution_count": 81
        }
      ]
    },
    {
      "cell_type": "markdown",
      "source": [
        "method 2 :encoding the labels"
      ],
      "metadata": {
        "id": "3OkYENuk38ky"
      }
    },
    {
      "cell_type": "code",
      "source": [
        "##extract labels (\"target columns \") and encode into integers\n",
        "from sklearn.preprocessing import LabelEncoder\n",
        "label_encode=LabelEncoder()\n",
        "train_labels_encoded=label_encode.fit_transform(train_df[\"target\"].to_numpy())\n",
        "val_labels_encoded=label_encode.fit_transform(val_df[\"target\"].to_numpy())\n",
        "test_labels_encoded=label_encode.fit_transform(test_df[\"target\"].to_numpy())"
      ],
      "metadata": {
        "id": "KKCx7oJc3lZF"
      },
      "execution_count": null,
      "outputs": []
    },
    {
      "cell_type": "code",
      "source": [
        "train_labels_encoded"
      ],
      "metadata": {
        "colab": {
          "base_uri": "https://localhost:8080/"
        },
        "id": "2Um0U1St3tlN",
        "outputId": "28397cce-6f00-4cf0-c29f-d8a4164bd76e"
      },
      "execution_count": null,
      "outputs": [
        {
          "output_type": "execute_result",
          "data": {
            "text/plain": [
              "array([3, 2, 2, ..., 4, 1, 1])"
            ]
          },
          "metadata": {},
          "execution_count": 83
        }
      ]
    },
    {
      "cell_type": "code",
      "source": [
        "#get class name and no of classes fomr label encoder instance\n",
        "num_classes=len(label_encode.classes_)\n",
        "class_names=label_encode.classes_\n",
        "num_classes,class_names"
      ],
      "metadata": {
        "colab": {
          "base_uri": "https://localhost:8080/"
        },
        "id": "HxRRCklR4HVA",
        "outputId": "36d0fe22-e998-4c00-9ac9-8a0efd5afbc2"
      },
      "execution_count": null,
      "outputs": [
        {
          "output_type": "execute_result",
          "data": {
            "text/plain": [
              "(5,\n",
              " array(['BACKGROUND', 'CONCLUSIONS', 'METHODS', 'OBJECTIVE', 'RESULTS'],\n",
              "       dtype=object))"
            ]
          },
          "metadata": {},
          "execution_count": 84
        }
      ]
    },
    {
      "cell_type": "markdown",
      "source": [
        "#Model1: creating a baseline models"
      ],
      "metadata": {
        "id": "nN_mDlAZ4ol8"
      }
    },
    {
      "cell_type": "code",
      "source": [
        "from sklearn.feature_extraction.text import TfidfVectorizer\n",
        "from sklearn.naive_bayes import MultinomialNB\n",
        "\n",
        "from sklearn.pipeline import Pipeline\n",
        "\n",
        "baseline_model=Pipeline([(\"tfidf\",TfidfVectorizer()),(\"clf\",MultinomialNB())])\n",
        "baseline_model.fit(train_sentences,train_labels_encoded)"
      ],
      "metadata": {
        "colab": {
          "base_uri": "https://localhost:8080/",
          "height": 125
        },
        "id": "N1NfFJhQ4m9t",
        "outputId": "37dc38ab-c042-4714-9823-bc371cc3d647"
      },
      "execution_count": null,
      "outputs": [
        {
          "output_type": "execute_result",
          "data": {
            "text/plain": [
              "Pipeline(steps=[('tfidf', TfidfVectorizer()), ('clf', MultinomialNB())])"
            ],
            "text/html": [
              "<style>#sk-container-id-2 {color: black;}#sk-container-id-2 pre{padding: 0;}#sk-container-id-2 div.sk-toggleable {background-color: white;}#sk-container-id-2 label.sk-toggleable__label {cursor: pointer;display: block;width: 100%;margin-bottom: 0;padding: 0.3em;box-sizing: border-box;text-align: center;}#sk-container-id-2 label.sk-toggleable__label-arrow:before {content: \"▸\";float: left;margin-right: 0.25em;color: #696969;}#sk-container-id-2 label.sk-toggleable__label-arrow:hover:before {color: black;}#sk-container-id-2 div.sk-estimator:hover label.sk-toggleable__label-arrow:before {color: black;}#sk-container-id-2 div.sk-toggleable__content {max-height: 0;max-width: 0;overflow: hidden;text-align: left;background-color: #f0f8ff;}#sk-container-id-2 div.sk-toggleable__content pre {margin: 0.2em;color: black;border-radius: 0.25em;background-color: #f0f8ff;}#sk-container-id-2 input.sk-toggleable__control:checked~div.sk-toggleable__content {max-height: 200px;max-width: 100%;overflow: auto;}#sk-container-id-2 input.sk-toggleable__control:checked~label.sk-toggleable__label-arrow:before {content: \"▾\";}#sk-container-id-2 div.sk-estimator input.sk-toggleable__control:checked~label.sk-toggleable__label {background-color: #d4ebff;}#sk-container-id-2 div.sk-label input.sk-toggleable__control:checked~label.sk-toggleable__label {background-color: #d4ebff;}#sk-container-id-2 input.sk-hidden--visually {border: 0;clip: rect(1px 1px 1px 1px);clip: rect(1px, 1px, 1px, 1px);height: 1px;margin: -1px;overflow: hidden;padding: 0;position: absolute;width: 1px;}#sk-container-id-2 div.sk-estimator {font-family: monospace;background-color: #f0f8ff;border: 1px dotted black;border-radius: 0.25em;box-sizing: border-box;margin-bottom: 0.5em;}#sk-container-id-2 div.sk-estimator:hover {background-color: #d4ebff;}#sk-container-id-2 div.sk-parallel-item::after {content: \"\";width: 100%;border-bottom: 1px solid gray;flex-grow: 1;}#sk-container-id-2 div.sk-label:hover label.sk-toggleable__label {background-color: #d4ebff;}#sk-container-id-2 div.sk-serial::before {content: \"\";position: absolute;border-left: 1px solid gray;box-sizing: border-box;top: 0;bottom: 0;left: 50%;z-index: 0;}#sk-container-id-2 div.sk-serial {display: flex;flex-direction: column;align-items: center;background-color: white;padding-right: 0.2em;padding-left: 0.2em;position: relative;}#sk-container-id-2 div.sk-item {position: relative;z-index: 1;}#sk-container-id-2 div.sk-parallel {display: flex;align-items: stretch;justify-content: center;background-color: white;position: relative;}#sk-container-id-2 div.sk-item::before, #sk-container-id-2 div.sk-parallel-item::before {content: \"\";position: absolute;border-left: 1px solid gray;box-sizing: border-box;top: 0;bottom: 0;left: 50%;z-index: -1;}#sk-container-id-2 div.sk-parallel-item {display: flex;flex-direction: column;z-index: 1;position: relative;background-color: white;}#sk-container-id-2 div.sk-parallel-item:first-child::after {align-self: flex-end;width: 50%;}#sk-container-id-2 div.sk-parallel-item:last-child::after {align-self: flex-start;width: 50%;}#sk-container-id-2 div.sk-parallel-item:only-child::after {width: 0;}#sk-container-id-2 div.sk-dashed-wrapped {border: 1px dashed gray;margin: 0 0.4em 0.5em 0.4em;box-sizing: border-box;padding-bottom: 0.4em;background-color: white;}#sk-container-id-2 div.sk-label label {font-family: monospace;font-weight: bold;display: inline-block;line-height: 1.2em;}#sk-container-id-2 div.sk-label-container {text-align: center;}#sk-container-id-2 div.sk-container {/* jupyter's `normalize.less` sets `[hidden] { display: none; }` but bootstrap.min.css set `[hidden] { display: none !important; }` so we also need the `!important` here to be able to override the default hidden behavior on the sphinx rendered scikit-learn.org. See: https://github.com/scikit-learn/scikit-learn/issues/21755 */display: inline-block !important;position: relative;}#sk-container-id-2 div.sk-text-repr-fallback {display: none;}</style><div id=\"sk-container-id-2\" class=\"sk-top-container\"><div class=\"sk-text-repr-fallback\"><pre>Pipeline(steps=[(&#x27;tfidf&#x27;, TfidfVectorizer()), (&#x27;clf&#x27;, MultinomialNB())])</pre><b>In a Jupyter environment, please rerun this cell to show the HTML representation or trust the notebook. <br />On GitHub, the HTML representation is unable to render, please try loading this page with nbviewer.org.</b></div><div class=\"sk-container\" hidden><div class=\"sk-item sk-dashed-wrapped\"><div class=\"sk-label-container\"><div class=\"sk-label sk-toggleable\"><input class=\"sk-toggleable__control sk-hidden--visually\" id=\"sk-estimator-id-4\" type=\"checkbox\" ><label for=\"sk-estimator-id-4\" class=\"sk-toggleable__label sk-toggleable__label-arrow\">Pipeline</label><div class=\"sk-toggleable__content\"><pre>Pipeline(steps=[(&#x27;tfidf&#x27;, TfidfVectorizer()), (&#x27;clf&#x27;, MultinomialNB())])</pre></div></div></div><div class=\"sk-serial\"><div class=\"sk-item\"><div class=\"sk-estimator sk-toggleable\"><input class=\"sk-toggleable__control sk-hidden--visually\" id=\"sk-estimator-id-5\" type=\"checkbox\" ><label for=\"sk-estimator-id-5\" class=\"sk-toggleable__label sk-toggleable__label-arrow\">TfidfVectorizer</label><div class=\"sk-toggleable__content\"><pre>TfidfVectorizer()</pre></div></div></div><div class=\"sk-item\"><div class=\"sk-estimator sk-toggleable\"><input class=\"sk-toggleable__control sk-hidden--visually\" id=\"sk-estimator-id-6\" type=\"checkbox\" ><label for=\"sk-estimator-id-6\" class=\"sk-toggleable__label sk-toggleable__label-arrow\">MultinomialNB</label><div class=\"sk-toggleable__content\"><pre>MultinomialNB()</pre></div></div></div></div></div></div></div>"
            ]
          },
          "metadata": {},
          "execution_count": 85
        }
      ]
    },
    {
      "cell_type": "code",
      "source": [
        "baseline_model.score(val_sentences,val_labels_encoded)"
      ],
      "metadata": {
        "colab": {
          "base_uri": "https://localhost:8080/"
        },
        "id": "0vQ7nuqf-Ytd",
        "outputId": "4c55a603-8c50-4a9e-a7eb-b05552c08bea"
      },
      "execution_count": null,
      "outputs": [
        {
          "output_type": "execute_result",
          "data": {
            "text/plain": [
              "0.7218323844829869"
            ]
          },
          "metadata": {},
          "execution_count": 86
        }
      ]
    },
    {
      "cell_type": "code",
      "source": [
        "baseline_preds=baseline_model.predict(val_sentences)"
      ],
      "metadata": {
        "id": "TGAN3zv2-z_K"
      },
      "execution_count": null,
      "outputs": []
    },
    {
      "cell_type": "code",
      "source": [
        "!wget https://raw.githubusercontent.com/mrdbourke/tensorflow-deep-learning/main/extras/helper_functions.py\n"
      ],
      "metadata": {
        "colab": {
          "base_uri": "https://localhost:8080/"
        },
        "id": "07BoAvEC_Y7l",
        "outputId": "73706f2d-efdf-4c41-f4e6-62fc9fd2fea6"
      },
      "execution_count": null,
      "outputs": [
        {
          "output_type": "stream",
          "name": "stdout",
          "text": [
            "--2024-08-12 01:37:39--  https://raw.githubusercontent.com/mrdbourke/tensorflow-deep-learning/main/extras/helper_functions.py\n",
            "Resolving raw.githubusercontent.com (raw.githubusercontent.com)... 185.199.108.133, 185.199.109.133, 185.199.110.133, ...\n",
            "Connecting to raw.githubusercontent.com (raw.githubusercontent.com)|185.199.108.133|:443... connected.\n",
            "HTTP request sent, awaiting response... 200 OK\n",
            "Length: 10246 (10K) [text/plain]\n",
            "Saving to: ‘helper_functions.py’\n",
            "\n",
            "\rhelper_functions.py   0%[                    ]       0  --.-KB/s               \rhelper_functions.py 100%[===================>]  10.01K  --.-KB/s    in 0s      \n",
            "\n",
            "2024-08-12 01:37:39 (45.5 MB/s) - ‘helper_functions.py’ saved [10246/10246]\n",
            "\n"
          ]
        }
      ]
    },
    {
      "cell_type": "code",
      "source": [
        "from helper_functions import calculate_results\n",
        "\n",
        "\n",
        "# Calculate baseline results\n",
        "baseline_results = calculate_results(y_true=val_labels_encoded,\n",
        "                                     y_pred=baseline_preds)\n",
        "baseline_results\n"
      ],
      "metadata": {
        "colab": {
          "base_uri": "https://localhost:8080/"
        },
        "id": "FywY8bpZ_bmt",
        "outputId": "ad398084-fe98-4746-c85b-022819a883c1"
      },
      "execution_count": null,
      "outputs": [
        {
          "output_type": "execute_result",
          "data": {
            "text/plain": [
              "{'accuracy': 72.1832384482987,\n",
              " 'precision': 0.7186466952323352,\n",
              " 'recall': 0.7218323844829869,\n",
              " 'f1': 0.6989250353450294}"
            ]
          },
          "metadata": {},
          "execution_count": 89
        }
      ]
    },
    {
      "cell_type": "markdown",
      "source": [
        "## model 2 :conv1D token embeddings"
      ],
      "metadata": {
        "id": "ZU9qEK9E_tK3"
      }
    },
    {
      "cell_type": "code",
      "source": [
        "import numpy as np\n",
        "import tensorflow as tf\n",
        "from tensorflow.keras import layers"
      ],
      "metadata": {
        "id": "evORaJ-0FRbg"
      },
      "execution_count": null,
      "outputs": []
    },
    {
      "cell_type": "code",
      "source": [
        "sent_lens=[len(sentence.split()) for sentence in train_sentences]\n",
        "avg_sent_len=np.mean(sent_lens)\n",
        "avg_sent_len"
      ],
      "metadata": {
        "colab": {
          "base_uri": "https://localhost:8080/"
        },
        "id": "m2DbDZxYFYiw",
        "outputId": "135b5a55-1827-4768-88cc-11cf4f1e80c1"
      },
      "execution_count": null,
      "outputs": [
        {
          "output_type": "execute_result",
          "data": {
            "text/plain": [
              "26.338269273494777"
            ]
          },
          "metadata": {},
          "execution_count": 91
        }
      ]
    },
    {
      "cell_type": "code",
      "source": [
        "import matplotlib.pyplot as plt\n",
        "plt.hist(sent_lens,bins=20)"
      ],
      "metadata": {
        "colab": {
          "base_uri": "https://localhost:8080/",
          "height": 569
        },
        "id": "cFKWsCwuGD19",
        "outputId": "819db696-fb57-4ee5-ffce-f985c38499a3"
      },
      "execution_count": null,
      "outputs": [
        {
          "output_type": "execute_result",
          "data": {
            "text/plain": [
              "(array([4.2075e+04, 8.3771e+04, 3.6877e+04, 1.0945e+04, 3.9310e+03,\n",
              "        1.4450e+03, 5.6000e+02, 2.2600e+02, 1.0100e+02, 4.5000e+01,\n",
              "        2.0000e+01, 1.2000e+01, 9.0000e+00, 1.0000e+01, 6.0000e+00,\n",
              "        2.0000e+00, 3.0000e+00, 0.0000e+00, 1.0000e+00, 1.0000e+00]),\n",
              " array([  1.  ,  15.75,  30.5 ,  45.25,  60.  ,  74.75,  89.5 , 104.25,\n",
              "        119.  , 133.75, 148.5 , 163.25, 178.  , 192.75, 207.5 , 222.25,\n",
              "        237.  , 251.75, 266.5 , 281.25, 296.  ]),\n",
              " <BarContainer object of 20 artists>)"
            ]
          },
          "metadata": {},
          "execution_count": 92
        },
        {
          "output_type": "display_data",
          "data": {
            "text/plain": [
              "<Figure size 640x480 with 1 Axes>"
            ],
            "image/png": "[encoded data removed]"
          },
          "metadata": {}
        }
      ]
    },
    {
      "cell_type": "code",
      "source": [
        "#how long of a sentence length\n",
        "output_seq_len=int(np.percentile(sent_lens,95))\n",
        "output_seq_len"
      ],
      "metadata": {
        "colab": {
          "base_uri": "https://localhost:8080/"
        },
        "id": "qij_LmV_HZNM",
        "outputId": "0c0e6bf4-9551-4c56-e17a-41ca0a4e1e97"
      },
      "execution_count": null,
      "outputs": [
        {
          "output_type": "execute_result",
          "data": {
            "text/plain": [
              "55"
            ]
          },
          "metadata": {},
          "execution_count": 93
        }
      ]
    },
    {
      "cell_type": "code",
      "source": [
        "from tensorflow.keras.layers import TextVectorization\n",
        "\n",
        "MAX_VOCAB_SIZE=68000\n",
        "text_vectorizer=TextVectorization(max_tokens=MAX_VOCAB_SIZE,output_sequence_length=output_seq_len,pad_to_max_tokens=True)"
      ],
      "metadata": {
        "id": "snS6Jkq0IbPL"
      },
      "execution_count": null,
      "outputs": []
    },
    {
      "cell_type": "code",
      "source": [
        "#adapt to validation data\n",
        "text_vectorizer.adapt(train_sentences)"
      ],
      "metadata": {
        "id": "3ihU_KHSKVmV"
      },
      "execution_count": null,
      "outputs": []
    },
    {
      "cell_type": "code",
      "source": [
        "import random\n",
        "target_sentence=random.choice(train_sentences)\n",
        "print(f\"text:\\n{target_sentence}\")\n",
        "print(f\"\\nLength of text: {len(target_sentence.split())}\")\n",
        "print(f\"\\nVectorized tezt:{text_vectorizer([target_sentence])}\")"
      ],
      "metadata": {
        "colab": {
          "base_uri": "https://localhost:8080/"
        },
        "id": "JH4xcxi9KjOY",
        "outputId": "dafc9635-c556-4c6e-e7ad-a8ea01651f99"
      },
      "execution_count": null,
      "outputs": [
        {
          "output_type": "stream",
          "name": "stdout",
          "text": [
            "text:\n",
            "['this study aimed to determine the analgesic effect of topical application of benzocaine prior to lingual frenotomy in infants with symptomatic tongue-tie .']\n",
            "\n",
            "Length of text: 23\n",
            "\n",
            "Vectorized tezt:[[   23    17   447     6   228     2   950    70     4  1044   679     4\n",
            "  16244   452     6  5346 26486     5   337     7   884 43522     0     0\n",
            "      0     0     0     0     0     0     0     0     0     0     0     0\n",
            "      0     0     0     0     0     0     0     0     0     0     0     0\n",
            "      0     0     0     0     0     0     0]]\n"
          ]
        }
      ]
    },
    {
      "cell_type": "code",
      "source": [
        "rct_20k_text_vocab=text_vectorizer.get_vocabulary()\n",
        "print(f\"Number of words in vocab: {len(rct_20k_text_vocab)}\")\n",
        "print(f\"most common words in the vocab: {rct_20k_text_vocab[:5]}\")\n",
        "print(f\"least common words in a vocab : {rct_20k_text_vocab[-5:]}\")"
      ],
      "metadata": {
        "colab": {
          "base_uri": "https://localhost:8080/"
        },
        "id": "OkeJ8G-iLO-z",
        "outputId": "8c4fe91a-0519-47e4-8344-ac2954c937c6"
      },
      "execution_count": null,
      "outputs": [
        {
          "output_type": "stream",
          "name": "stdout",
          "text": [
            "Number of words in vocab: 64841\n",
            "most common words in the vocab: ['', '[UNK]', 'the', 'and', 'of']\n",
            "least common words in a vocab : ['aainduced', 'aaigroup', 'aachener', 'aachen', 'aaacp']\n"
          ]
        }
      ]
    },
    {
      "cell_type": "code",
      "source": [
        "#creating the embeddeing layer\n",
        "embedding=layers.Embedding(input_dim=len(rct_20k_text_vocab),output_dim=128,mask_zero=True,input_length=output_seq_len)"
      ],
      "metadata": {
        "id": "Mc28-7wcLrYX",
        "colab": {
          "base_uri": "https://localhost:8080/"
        },
        "outputId": "4c2ac8b3-96a5-47b3-981d-6f2090381310"
      },
      "execution_count": null,
      "outputs": [
        {
          "output_type": "stream",
          "name": "stderr",
          "text": [
            "/usr/local/lib/python3.10/dist-packages/keras/src/layers/core/embedding.py:90: UserWarning: Argument `input_length` is deprecated. Just remove it.\n",
            "  warnings.warn(\n"
          ]
        }
      ]
    },
    {
      "cell_type": "code",
      "source": [
        "print(f\"Sentence before vectorization: {target_sentence} \\n\")\n",
        "print(f\"Sentence after vectorization: {text_vectorizer([target_sentence])}\")\n",
        "print(f\"Sentence after embedding: {embedding(text_vectorizer([target_sentence]))}\")"
      ],
      "metadata": {
        "colab": {
          "base_uri": "https://localhost:8080/"
        },
        "id": "S4b4Xz0kMcxq",
        "outputId": "78890ae8-0e5f-462f-89a9-526e50ec02d4"
      },
      "execution_count": null,
      "outputs": [
        {
          "output_type": "stream",
          "name": "stdout",
          "text": [
            "Sentence before vectorization: ['this study aimed to determine the analgesic effect of topical application of benzocaine prior to lingual frenotomy in infants with symptomatic tongue-tie .'] \n",
            "\n",
            "Sentence after vectorization: [[   23    17   447     6   228     2   950    70     4  1044   679     4\n",
            "  16244   452     6  5346 26486     5   337     7   884 43522     0     0\n",
            "      0     0     0     0     0     0     0     0     0     0     0     0\n",
            "      0     0     0     0     0     0     0     0     0     0     0     0\n",
            "      0     0     0     0     0     0     0]]\n",
            "Sentence after embedding: [[[ 0.04605414  0.04309518  0.03308243 ... -0.00859405  0.03558722\n",
            "   -0.04742165]\n",
            "  [-0.01591407  0.04253343 -0.03886529 ... -0.03402202 -0.03534962\n",
            "   -0.03783147]\n",
            "  [ 0.04285668 -0.00372324 -0.0015889  ... -0.02976415 -0.00566462\n",
            "   -0.02545955]\n",
            "  ...\n",
            "  [ 0.02648785 -0.04532291 -0.00073533 ...  0.03899268 -0.03547945\n",
            "   -0.0088295 ]\n",
            "  [ 0.02648785 -0.04532291 -0.00073533 ...  0.03899268 -0.03547945\n",
            "   -0.0088295 ]\n",
            "  [ 0.02648785 -0.04532291 -0.00073533 ...  0.03899268 -0.03547945\n",
            "   -0.0088295 ]]]\n"
          ]
        }
      ]
    },
    {
      "cell_type": "code",
      "source": [
        "input=layers.Input(shape=(1,),dtype=tf.string)\n",
        "x=text_vectorizer(input)\n",
        "x=embedding(x)\n",
        "x=layers.Conv1D(filters=64,kernel_size=5,activation=\"relu\",padding=\"same\")(x)\n",
        "x=layers.GlobalAveragePooling1D()(x)\n",
        "outputs=layers.Dense(num_classes,activation=\"softmax\")(x)\n",
        "model_1=tf.keras.Model(input,outputs)\n"
      ],
      "metadata": {
        "id": "Ur1Y3VwnfMNJ",
        "colab": {
          "base_uri": "https://localhost:8080/"
        },
        "outputId": "fe70b91a-a0dc-4eb1-a48f-5082d6940d54"
      },
      "execution_count": null,
      "outputs": [
        {
          "output_type": "stream",
          "name": "stderr",
          "text": [
            "/usr/local/lib/python3.10/dist-packages/keras/src/layers/layer.py:915: UserWarning: Layer 'conv1d_1' (of type Conv1D) was passed an input with a mask attached to it. However, this layer does not support masking and will therefore destroy the mask information. Downstream layers will not see the mask.\n",
            "  warnings.warn(\n"
          ]
        }
      ]
    },
    {
      "cell_type": "code",
      "source": [
        "model_1.summary()"
      ],
      "metadata": {
        "colab": {
          "base_uri": "https://localhost:8080/",
          "height": 370
        },
        "id": "O2Sp2-tnlsf1",
        "outputId": "fd429a60-df9b-471e-a4a2-cf699a50a4d7"
      },
      "execution_count": null,
      "outputs": [
        {
          "output_type": "display_data",
          "data": {
            "text/plain": [
              "\u001b[1mModel: \"functional_1\"\u001b[0m\n"
            ],
            "text/html": [
              "<pre style=\"white-space:pre;overflow-x:auto;line-height:normal;font-family:Menlo,'DejaVu Sans Mono',consolas,'Courier New',monospace\"><span style=\"font-weight: bold\">Model: \"functional_1\"</span>\n",
              "</pre>\n"
            ]
          },
          "metadata": {}
        },
        {
          "output_type": "display_data",
          "data": {
            "text/plain": [
              "┏━━━━━━━━━━━━━━━━━━━━━━━━━━━━━━━━━━━━━━┳━━━━━━━━━━━━━━━━━━━━━━━━━━━━━┳━━━━━━━━━━━━━━━━━┓\n",
              "┃\u001b[1m \u001b[0m\u001b[1mLayer (type)                        \u001b[0m\u001b[1m \u001b[0m┃\u001b[1m \u001b[0m\u001b[1mOutput Shape               \u001b[0m\u001b[1m \u001b[0m┃\u001b[1m \u001b[0m\u001b[1m        Param #\u001b[0m\u001b[1m \u001b[0m┃\n",
              "┡━━━━━━━━━━━━━━━━━━━━━━━━━━━━━━━━━━━━━━╇━━━━━━━━━━━━━━━━━━━━━━━━━━━━━╇━━━━━━━━━━━━━━━━━┩\n",
              "│ input_layer_4 (\u001b[38;5;33mInputLayer\u001b[0m)           │ (\u001b[38;5;45mNone\u001b[0m, \u001b[38;5;34m1\u001b[0m)                   │               \u001b[38;5;34m0\u001b[0m │\n",
              "├──────────────────────────────────────┼─────────────────────────────┼─────────────────┤\n",
              "│ text_vectorization_2                 │ (\u001b[38;5;45mNone\u001b[0m, \u001b[38;5;34m55\u001b[0m)                  │               \u001b[38;5;34m0\u001b[0m │\n",
              "│ (\u001b[38;5;33mTextVectorization\u001b[0m)                  │                             │                 │\n",
              "├──────────────────────────────────────┼─────────────────────────────┼─────────────────┤\n",
              "│ embedding_1 (\u001b[38;5;33mEmbedding\u001b[0m)              │ (\u001b[38;5;45mNone\u001b[0m, \u001b[38;5;34m55\u001b[0m, \u001b[38;5;34m128\u001b[0m)             │       \u001b[38;5;34m8,299,648\u001b[0m │\n",
              "├──────────────────────────────────────┼─────────────────────────────┼─────────────────┤\n",
              "│ conv1d_1 (\u001b[38;5;33mConv1D\u001b[0m)                    │ (\u001b[38;5;45mNone\u001b[0m, \u001b[38;5;34m55\u001b[0m, \u001b[38;5;34m64\u001b[0m)              │          \u001b[38;5;34m41,024\u001b[0m │\n",
              "├──────────────────────────────────────┼─────────────────────────────┼─────────────────┤\n",
              "│ global_average_pooling1d             │ (\u001b[38;5;45mNone\u001b[0m, \u001b[38;5;34m64\u001b[0m)                  │               \u001b[38;5;34m0\u001b[0m │\n",
              "│ (\u001b[38;5;33mGlobalAveragePooling1D\u001b[0m)             │                             │                 │\n",
              "├──────────────────────────────────────┼─────────────────────────────┼─────────────────┤\n",
              "│ dense_1 (\u001b[38;5;33mDense\u001b[0m)                      │ (\u001b[38;5;45mNone\u001b[0m, \u001b[38;5;34m5\u001b[0m)                   │             \u001b[38;5;34m325\u001b[0m │\n",
              "└──────────────────────────────────────┴─────────────────────────────┴─────────────────┘\n"
            ],
            "text/html": [
              "<pre style=\"white-space:pre;overflow-x:auto;line-height:normal;font-family:Menlo,'DejaVu Sans Mono',consolas,'Courier New',monospace\">┏━━━━━━━━━━━━━━━━━━━━━━━━━━━━━━━━━━━━━━┳━━━━━━━━━━━━━━━━━━━━━━━━━━━━━┳━━━━━━━━━━━━━━━━━┓\n",
              "┃<span style=\"font-weight: bold\"> Layer (type)                         </span>┃<span style=\"font-weight: bold\"> Output Shape                </span>┃<span style=\"font-weight: bold\">         Param # </span>┃\n",
              "┡━━━━━━━━━━━━━━━━━━━━━━━━━━━━━━━━━━━━━━╇━━━━━━━━━━━━━━━━━━━━━━━━━━━━━╇━━━━━━━━━━━━━━━━━┩\n",
              "│ input_layer_4 (<span style=\"color: #0087ff; text-decoration-color: #0087ff\">InputLayer</span>)           │ (<span style=\"color: #00d7ff; text-decoration-color: #00d7ff\">None</span>, <span style=\"color: #00af00; text-decoration-color: #00af00\">1</span>)                   │               <span style=\"color: #00af00; text-decoration-color: #00af00\">0</span> │\n",
              "├──────────────────────────────────────┼─────────────────────────────┼─────────────────┤\n",
              "│ text_vectorization_2                 │ (<span style=\"color: #00d7ff; text-decoration-color: #00d7ff\">None</span>, <span style=\"color: #00af00; text-decoration-color: #00af00\">55</span>)                  │               <span style=\"color: #00af00; text-decoration-color: #00af00\">0</span> │\n",
              "│ (<span style=\"color: #0087ff; text-decoration-color: #0087ff\">TextVectorization</span>)                  │                             │                 │\n",
              "├──────────────────────────────────────┼─────────────────────────────┼─────────────────┤\n",
              "│ embedding_1 (<span style=\"color: #0087ff; text-decoration-color: #0087ff\">Embedding</span>)              │ (<span style=\"color: #00d7ff; text-decoration-color: #00d7ff\">None</span>, <span style=\"color: #00af00; text-decoration-color: #00af00\">55</span>, <span style=\"color: #00af00; text-decoration-color: #00af00\">128</span>)             │       <span style=\"color: #00af00; text-decoration-color: #00af00\">8,299,648</span> │\n",
              "├──────────────────────────────────────┼─────────────────────────────┼─────────────────┤\n",
              "│ conv1d_1 (<span style=\"color: #0087ff; text-decoration-color: #0087ff\">Conv1D</span>)                    │ (<span style=\"color: #00d7ff; text-decoration-color: #00d7ff\">None</span>, <span style=\"color: #00af00; text-decoration-color: #00af00\">55</span>, <span style=\"color: #00af00; text-decoration-color: #00af00\">64</span>)              │          <span style=\"color: #00af00; text-decoration-color: #00af00\">41,024</span> │\n",
              "├──────────────────────────────────────┼─────────────────────────────┼─────────────────┤\n",
              "│ global_average_pooling1d             │ (<span style=\"color: #00d7ff; text-decoration-color: #00d7ff\">None</span>, <span style=\"color: #00af00; text-decoration-color: #00af00\">64</span>)                  │               <span style=\"color: #00af00; text-decoration-color: #00af00\">0</span> │\n",
              "│ (<span style=\"color: #0087ff; text-decoration-color: #0087ff\">GlobalAveragePooling1D</span>)             │                             │                 │\n",
              "├──────────────────────────────────────┼─────────────────────────────┼─────────────────┤\n",
              "│ dense_1 (<span style=\"color: #0087ff; text-decoration-color: #0087ff\">Dense</span>)                      │ (<span style=\"color: #00d7ff; text-decoration-color: #00d7ff\">None</span>, <span style=\"color: #00af00; text-decoration-color: #00af00\">5</span>)                   │             <span style=\"color: #00af00; text-decoration-color: #00af00\">325</span> │\n",
              "└──────────────────────────────────────┴─────────────────────────────┴─────────────────┘\n",
              "</pre>\n"
            ]
          },
          "metadata": {}
        },
        {
          "output_type": "display_data",
          "data": {
            "text/plain": [
              "\u001b[1m Total params: \u001b[0m\u001b[38;5;34m8,340,997\u001b[0m (31.82 MB)\n"
            ],
            "text/html": [
              "<pre style=\"white-space:pre;overflow-x:auto;line-height:normal;font-family:Menlo,'DejaVu Sans Mono',consolas,'Courier New',monospace\"><span style=\"font-weight: bold\"> Total params: </span><span style=\"color: #00af00; text-decoration-color: #00af00\">8,340,997</span> (31.82 MB)\n",
              "</pre>\n"
            ]
          },
          "metadata": {}
        },
        {
          "output_type": "display_data",
          "data": {
            "text/plain": [
              "\u001b[1m Trainable params: \u001b[0m\u001b[38;5;34m8,340,997\u001b[0m (31.82 MB)\n"
            ],
            "text/html": [
              "<pre style=\"white-space:pre;overflow-x:auto;line-height:normal;font-family:Menlo,'DejaVu Sans Mono',consolas,'Courier New',monospace\"><span style=\"font-weight: bold\"> Trainable params: </span><span style=\"color: #00af00; text-decoration-color: #00af00\">8,340,997</span> (31.82 MB)\n",
              "</pre>\n"
            ]
          },
          "metadata": {}
        },
        {
          "output_type": "display_data",
          "data": {
            "text/plain": [
              "\u001b[1m Non-trainable params: \u001b[0m\u001b[38;5;34m0\u001b[0m (0.00 B)\n"
            ],
            "text/html": [
              "<pre style=\"white-space:pre;overflow-x:auto;line-height:normal;font-family:Menlo,'DejaVu Sans Mono',consolas,'Courier New',monospace\"><span style=\"font-weight: bold\"> Non-trainable params: </span><span style=\"color: #00af00; text-decoration-color: #00af00\">0</span> (0.00 B)\n",
              "</pre>\n"
            ]
          },
          "metadata": {}
        }
      ]
    },
    {
      "cell_type": "code",
      "source": [
        "model_1.compile(loss=\"sparse_categorical_crossentropy\",optimizer=tf.keras.optimizers.Adam(),metrics=[\"accuracy\"])"
      ],
      "metadata": {
        "id": "8AnrUyCyle6V"
      },
      "execution_count": null,
      "outputs": []
    },
    {
      "cell_type": "code",
      "source": [
        "train_dataset=tf.data.Dataset.from_tensor_slices((train_sentences,train_labels_encoded))\n",
        "val_dataset=tf.data.Dataset.from_tensor_slices((val_sentences,val_labels_encoded))\n",
        "test_dataset=tf.data.Dataset.from_tensor_slices((test_sentences,test_labels_encoded))"
      ],
      "metadata": {
        "id": "32ZD8-KajHyn"
      },
      "execution_count": null,
      "outputs": []
    },
    {
      "cell_type": "code",
      "source": [
        "train_dataset=train_dataset.batch(batch_size=32).prefetch(tf.data.AUTOTUNE)\n",
        "val_dataset=val_dataset.batch(batch_size=32).prefetch(tf.data.AUTOTUNE)\n",
        "test_dataset=test_dataset.batch(batch_size=32).prefetch(tf.data.AUTOTUNE)\n",
        "train_dataset"
      ],
      "metadata": {
        "colab": {
          "base_uri": "https://localhost:8080/"
        },
        "id": "x-stKHGDjRQA",
        "outputId": "9b09ad29-c09b-4587-d4f6-7ceb06c5f844"
      },
      "execution_count": null,
      "outputs": [
        {
          "output_type": "execute_result",
          "data": {
            "text/plain": [
              "<_PrefetchDataset element_spec=(TensorSpec(shape=(None,), dtype=tf.string, name=None), TensorSpec(shape=(None,), dtype=tf.int64, name=None))>"
            ]
          },
          "metadata": {},
          "execution_count": 104
        }
      ]
    },
    {
      "cell_type": "code",
      "source": [
        "for x, y in val_dataset.take(1):\n",
        "    print(f\"x shape: {x.shape}, y shape: {y.shape}\")\n",
        "assert val_dataset is not None, \"Validation dataset is None\"\n"
      ],
      "metadata": {
        "colab": {
          "base_uri": "https://localhost:8080/"
        },
        "id": "ISEkxMVzTXry",
        "outputId": "7a3aa4ff-6c00-4cf2-f68c-cff242fca8ef"
      },
      "execution_count": null,
      "outputs": [
        {
          "output_type": "stream",
          "name": "stdout",
          "text": [
            "x shape: (32,), y shape: (32,)\n"
          ]
        }
      ]
    },
    {
      "cell_type": "code",
      "source": [
        "assert val_dataset is not None, \"Validation dataset is None\"\n"
      ],
      "metadata": {
        "colab": {
          "base_uri": "https://localhost:8080/",
          "height": 106
        },
        "id": "dqBWsQypTlLH",
        "outputId": "7c20a703-43fc-4944-98f5-3a09cfd7d71d"
      },
      "execution_count": null,
      "outputs": [
        {
          "output_type": "error",
          "ename": "SyntaxError",
          "evalue": "expected 'else' after 'if' expression (<ipython-input-124-e1a6821ad6a1>, line 2)",
          "traceback": [
            "\u001b[0;36m  File \u001b[0;32m\"<ipython-input-124-e1a6821ad6a1>\"\u001b[0;36m, line \u001b[0;32m2\u001b[0m\n\u001b[0;31m    validation_steps = len(val_dataset) if validation_steps is not explicitly set.\u001b[0m\n\u001b[0m                       ^\u001b[0m\n\u001b[0;31mSyntaxError\u001b[0m\u001b[0;31m:\u001b[0m expected 'else' after 'if' expression\n"
          ]
        }
      ]
    },
    {
      "cell_type": "code",
      "source": [
        "history_1=model_1.fit(train_dataset,steps_per_epoch=int(0.1*len(train_dataset)),epochs=3)"
      ],
      "metadata": {
        "colab": {
          "base_uri": "https://localhost:8080/"
        },
        "id": "Lw0ZPK2Tl9e4",
        "outputId": "dbc0f384-1d3e-4213-89ac-ea73ae5761c5"
      },
      "execution_count": null,
      "outputs": [
        {
          "output_type": "stream",
          "name": "stdout",
          "text": [
            "Epoch 1/3\n",
            "\u001b[1m562/562\u001b[0m \u001b[32m━━━━━━━━━━━━━━━━━━━━\u001b[0m\u001b[37m\u001b[0m \u001b[1m57s\u001b[0m 101ms/step - accuracy: 0.8563 - loss: 0.4213\n",
            "Epoch 2/3\n",
            "\u001b[1m562/562\u001b[0m \u001b[32m━━━━━━━━━━━━━━━━━━━━\u001b[0m\u001b[37m\u001b[0m \u001b[1m59s\u001b[0m 106ms/step - accuracy: 0.8908 - loss: 0.3242\n",
            "Epoch 3/3\n",
            "\u001b[1m562/562\u001b[0m \u001b[32m━━━━━━━━━━━━━━━━━━━━\u001b[0m\u001b[37m\u001b[0m \u001b[1m70s\u001b[0m 125ms/step - accuracy: 0.7728 - loss: 0.6487\n"
          ]
        }
      ]
    },
    {
      "cell_type": "code",
      "source": [
        "model_1.evaluate(val_dataset,steps=len(val_dataset))"
      ],
      "metadata": {
        "colab": {
          "base_uri": "https://localhost:8080/"
        },
        "id": "qBTSWl8imwVp",
        "outputId": "42e3475d-ab74-4ecc-bd92-2d83acb9ef58"
      },
      "execution_count": null,
      "outputs": [
        {
          "output_type": "stream",
          "name": "stdout",
          "text": [
            "\u001b[1m945/945\u001b[0m \u001b[32m━━━━━━━━━━━━━━━━━━━━\u001b[0m\u001b[37m\u001b[0m \u001b[1m13s\u001b[0m 14ms/step - accuracy: 0.7776 - loss: 0.6220\n"
          ]
        },
        {
          "output_type": "execute_result",
          "data": {
            "text/plain": [
              "[0.6273093819618225, 0.7774063348770142]"
            ]
          },
          "metadata": {},
          "execution_count": 126
        }
      ]
    },
    {
      "cell_type": "code",
      "source": [
        "model_1_pred_probs=model_1.predict(test_dataset)\n",
        "model_1_pred_probs"
      ],
      "metadata": {
        "colab": {
          "base_uri": "https://localhost:8080/"
        },
        "id": "LJ2qiaUJoygk",
        "outputId": "0c546da1-254c-4574-97c9-83df2721196e"
      },
      "execution_count": null,
      "outputs": [
        {
          "output_type": "stream",
          "name": "stdout",
          "text": [
            "\u001b[1m942/942\u001b[0m \u001b[32m━━━━━━━━━━━━━━━━━━━━\u001b[0m\u001b[37m\u001b[0m \u001b[1m12s\u001b[0m 13ms/step\n"
          ]
        },
        {
          "output_type": "execute_result",
          "data": {
            "text/plain": [
              "array([[1.6598739e-01, 1.7580425e-02, 5.9901983e-01, 1.9774655e-01,\n",
              "        1.9665740e-02],\n",
              "       [3.5107303e-03, 2.9834703e-04, 9.8065555e-01, 9.6723232e-03,\n",
              "        5.8630090e-03],\n",
              "       [3.0300196e-05, 8.5678745e-05, 9.9096543e-01, 2.5268420e-05,\n",
              "        8.8933231e-03],\n",
              "       ...,\n",
              "       [1.6557912e-03, 2.5045834e-02, 4.8995201e-02, 1.5687717e-03,\n",
              "        9.2273438e-01],\n",
              "       [6.0497606e-03, 4.7665808e-02, 4.6429187e-02, 5.8680908e-03,\n",
              "        8.9398718e-01],\n",
              "       [2.4599092e-02, 2.5614095e-01, 4.3474269e-01, 4.6251148e-02,\n",
              "        2.3826614e-01]], dtype=float32)"
            ]
          },
          "metadata": {},
          "execution_count": 125
        }
      ]
    },
    {
      "cell_type": "code",
      "source": [
        "model_1_probs=tf.argmax(model_1_pred_probs,axis=1)\n",
        "model_1_probs"
      ],
      "metadata": {
        "colab": {
          "base_uri": "https://localhost:8080/"
        },
        "id": "rzSLQIE-o0-n",
        "outputId": "f39e7a6a-c9f6-4cc8-d5ea-7e7682909f61"
      },
      "execution_count": null,
      "outputs": [
        {
          "output_type": "execute_result",
          "data": {
            "text/plain": [
              "<tf.Tensor: shape=(30212,), dtype=int64, numpy=array([3, 0, 3, ..., 4, 2, 1])>"
            ]
          },
          "metadata": {},
          "execution_count": 109
        }
      ]
    },
    {
      "cell_type": "code",
      "source": [
        "model_1_results=calculate_results(y_true=val_labels_encoded,y_pred=model_1_probs)\n",
        "model_1_results"
      ],
      "metadata": {
        "colab": {
          "base_uri": "https://localhost:8080/"
        },
        "id": "qIpVP24BpGmQ",
        "outputId": "fe9781ca-da43-41f0-e7e0-cbfe6592ffd0"
      },
      "execution_count": null,
      "outputs": [
        {
          "output_type": "execute_result",
          "data": {
            "text/plain": [
              "{'accuracy': 77.74063286111479,\n",
              " 'precision': 0.7773674255962384,\n",
              " 'recall': 0.7774063286111479,\n",
              " 'f1': 0.7753493154862965}"
            ]
          },
          "metadata": {},
          "execution_count": 110
        }
      ]
    },
    {
      "cell_type": "code",
      "source": [
        "baseline_results"
      ],
      "metadata": {
        "colab": {
          "base_uri": "https://localhost:8080/"
        },
        "id": "fPMShMH0pJiA",
        "outputId": "175e1c33-60f8-44e7-a127-a6826c965154"
      },
      "execution_count": null,
      "outputs": [
        {
          "output_type": "execute_result",
          "data": {
            "text/plain": [
              "{'accuracy': 72.1832384482987,\n",
              " 'precision': 0.7186466952323352,\n",
              " 'recall': 0.7218323844829869,\n",
              " 'f1': 0.6989250353450294}"
            ]
          },
          "metadata": {},
          "execution_count": 111
        }
      ]
    },
    {
      "cell_type": "code",
      "source": [
        "def use_embed(inputs):\n",
        "  return use_embedding(inputs)\n",
        "class embed_layer(layers.Layer):\n",
        "  def call(self,inputs):\n",
        "    return use_embed(inputs)"
      ],
      "metadata": {
        "id": "Q-FT4ayhU2Kd"
      },
      "execution_count": null,
      "outputs": []
    },
    {
      "cell_type": "markdown",
      "source": [
        "#Model 2:universal sentence encoder feature extractor model"
      ],
      "metadata": {
        "id": "ZIKtdnD8sBIk"
      }
    },
    {
      "cell_type": "code",
      "source": [
        "import tensorflow_hub as hub\n",
        "use_embedding=hub.KerasLayer(\"https://tfhub.dev/google/universal-sentence-encoder/4\",input_shape=[],trainable=False,dtype=\"string\",name=\"universal_encoder\")\n"
      ],
      "metadata": {
        "id": "5hk3rO6epWkU"
      },
      "execution_count": null,
      "outputs": []
    },
    {
      "cell_type": "code",
      "source": [
        "import random\n",
        "random_sentence=random.choice(train_sentences)\n",
        "print(f\"Random sentence:\\n{random_sentence}\\n\")\n",
        "use_embedded_sentence=use_embedding([random_sentence])\n",
        "print(f\"random sentence after use embeddings {use_embedded_sentence}\")"
      ],
      "metadata": {
        "colab": {
          "base_uri": "https://localhost:8080/"
        },
        "id": "daZOP5r7sJO9",
        "outputId": "814dde91-d099-46ec-8471-0ef5e2500286"
      },
      "execution_count": null,
      "outputs": [
        {
          "output_type": "stream",
          "name": "stdout",
          "text": [
            "Random sentence:\n",
            "['the dash diet was designed to be rich in fruits , vegetables , whole grains , and low-fat dairy products and to be low in saturated fats , cholesterol , and refined grains .']\n",
            "\n",
            "random sentence after use embeddings [[-0.04746024 -0.00024054 -0.03157791  0.0134706   0.02285944 -0.05412515\n",
            "   0.03950066  0.04103656  0.04916893  0.00822918  0.02867821 -0.01613081\n",
            "   0.04421329 -0.03858983 -0.07892826  0.04065829 -0.07859206 -0.04501968\n",
            "   0.04453271  0.02032923  0.00266589  0.0192366  -0.02215705 -0.05671429\n",
            "   0.04328976 -0.03846556  0.02328448  0.06716198 -0.01494646 -0.05416007\n",
            "   0.06235102  0.07858503  0.03625593  0.03009985 -0.05288856 -0.00093694\n",
            "  -0.0352327   0.02089133 -0.05326521  0.03008602 -0.00461983 -0.02210474\n",
            "   0.07534821 -0.00267789 -0.00540055 -0.03158603 -0.04388521 -0.00493685\n",
            "  -0.07562341 -0.07138933 -0.03520886 -0.0605874  -0.01157782  0.02572258\n",
            "   0.02253184 -0.00109914  0.03600532 -0.00677091  0.05795953 -0.02533678\n",
            "   0.03947737 -0.07158247  0.02435409 -0.02097324 -0.07141409  0.02637038\n",
            "   0.04268777 -0.03615494  0.05913864 -0.05652292  0.04036992  0.05037541\n",
            "  -0.04230792  0.04516881  0.05859617  0.06528722  0.01166012  0.07821734\n",
            "   0.07618138  0.02005843 -0.05614434  0.0415658   0.07243843  0.07522407\n",
            "  -0.03132567  0.01498121 -0.03485544 -0.05472123 -0.03719289 -0.07332415\n",
            "   0.00726117 -0.04461081  0.00456808  0.02707092  0.07701934  0.04159965\n",
            "  -0.04550229  0.02308898  0.04853924  0.04875001 -0.02568517 -0.07296529\n",
            "   0.06963155 -0.03856158  0.03575789  0.01906116 -0.05179277  0.042713\n",
            "   0.01855231  0.06441809  0.07078177 -0.02837806  0.02427605  0.01141183\n",
            "  -0.05658488 -0.0352594   0.07779223  0.02419937  0.06156448  0.03111509\n",
            "   0.02924857  0.03748061  0.00447568  0.01287827 -0.02307072 -0.04421122\n",
            "  -0.06732275  0.04106535  0.00383962  0.03203767 -0.04960581  0.07891378\n",
            "  -0.01715375  0.0554615   0.03906248  0.07246991  0.02520817  0.03780826\n",
            "  -0.02511491  0.03381497 -0.05770493  0.0708715   0.03655474  0.00582457\n",
            "  -0.07413256 -0.02741952 -0.05820512 -0.04362603 -0.02630614  0.01081587\n",
            "  -0.02018976 -0.01873726 -0.0746244   0.02610801  0.07177038  0.02922692\n",
            "  -0.04397817 -0.03160087  0.02228041 -0.04620672 -0.03080523 -0.07341435\n",
            "   0.0212666   0.02718041  0.03655053  0.00997824 -0.04257195  0.0396273\n",
            "  -0.02612029  0.0296383  -0.06705233 -0.02646418  0.02799571 -0.07066586\n",
            "   0.02711038 -0.0234751  -0.03207554  0.0438632  -0.00860278  0.05883221\n",
            "   0.00123409 -0.02275745  0.016316   -0.05059622 -0.02733321  0.04419021\n",
            "  -0.06875186 -0.07768899 -0.05485385 -0.03373748 -0.06564662 -0.0351\n",
            "   0.02840041 -0.0094954  -0.03696058 -0.05542092  0.07804587 -0.05110342\n",
            "  -0.06740664 -0.03457853  0.06160402 -0.04451674 -0.0146017  -0.05481543\n",
            "   0.02560053 -0.02771609  0.03344363 -0.05029516 -0.03865947  0.04233573\n",
            "  -0.03319169  0.0517075  -0.05516937 -0.02718533  0.03628444 -0.01031976\n",
            "   0.05492643  0.00991036  0.06276112  0.00206992  0.04485641  0.04778058\n",
            "  -0.0312525   0.05512841  0.01335982 -0.06213074  0.00137879 -0.04250478\n",
            "   0.05044655 -0.07891431 -0.02132115  0.02384548  0.03321683 -0.03564631\n",
            "   0.05212459  0.01106835 -0.05499716 -0.01870682  0.04682115  0.06378266\n",
            "  -0.04085378 -0.06852896  0.07624807 -0.03740359 -0.00024231 -0.07447374\n",
            "   0.07892822  0.07494166  0.05182439 -0.07589012  0.03615439 -0.01535283\n",
            "  -0.01363462 -0.05180185 -0.00226773 -0.05245833  0.005988   -0.02105755\n",
            "   0.03891767 -0.03770448 -0.03288863 -0.02389445 -0.02336145 -0.03409748\n",
            "   0.01978276 -0.05678986  0.05693232 -0.00976266 -0.04305395 -0.05193518\n",
            "  -0.06648018  0.03883885  0.01594837 -0.02522828  0.06677315  0.04966419\n",
            "  -0.02315486  0.0447965   0.04329259  0.06395834  0.04340893  0.00170279\n",
            "   0.02799786 -0.00299382  0.00570997  0.05507263 -0.01451093 -0.07676956\n",
            "  -0.04397791 -0.04796005 -0.06578998  0.06933305  0.07822545  0.02812967\n",
            "  -0.04332744  0.05145937  0.05972343  0.02743009 -0.06343239  0.06794906\n",
            "   0.01410247  0.0362253   0.04814506 -0.02461567  0.06814227  0.00095859\n",
            "   0.05046218 -0.01775724  0.04669605 -0.05843532  0.04170806  0.03002833\n",
            "  -0.06675439 -0.03862687 -0.06692876 -0.02886102  0.00782923 -0.04110415\n",
            "  -0.04377791  0.02333684  0.0496172   0.01030187 -0.0102896   0.07892185\n",
            "   0.02164394  0.05479123 -0.00967906 -0.01081728 -0.02158607  0.05716657\n",
            "   0.03931906  0.05938547  0.00094492  0.01838258  0.05779133 -0.07892425\n",
            "  -0.02707826 -0.02295018 -0.01197132  0.06942634 -0.02766118  0.02392156\n",
            "  -0.00619488 -0.04566053 -0.03687031 -0.07892826  0.02835491  0.03881003\n",
            "   0.04385988 -0.02992082 -0.05224759  0.0527103   0.0401799  -0.01116512\n",
            "   0.00675428  0.06581996 -0.07115623  0.0747197   0.0716909   0.00898073\n",
            "  -0.02664969 -0.0145861  -0.02584154  0.0358001  -0.05520419  0.04852687\n",
            "   0.06508324  0.02461842 -0.00603486 -0.05383819  0.07819244 -0.06465043\n",
            "   0.02494044 -0.07766575 -0.04165992 -0.00103087  0.00613465  0.04074977\n",
            "  -0.0562439  -0.02185965  0.02565994  0.00561917 -0.0092633  -0.00581393\n",
            "  -0.00566364  0.07547055 -0.01982005 -0.0083314   0.02344843 -0.00887943\n",
            "   0.038175   -0.03700134 -0.02747364 -0.01322734  0.04980318 -0.05940161\n",
            "   0.02293486  0.04901818  0.06818104  0.01554294  0.02304029  0.03983279\n",
            "   0.01184857  0.01697198 -0.06840367  0.00370326  0.00609198 -0.03941742\n",
            "  -0.00190203  0.03969647 -0.01418099 -0.01124106  0.0623869  -0.0256936\n",
            "  -0.03705871 -0.05457824 -0.04164285  0.03771738  0.03047208 -0.04030605\n",
            "   0.04377729  0.01969341 -0.05242298  0.04377736  0.02216845  0.01101616\n",
            "   0.05960323  0.07095838 -0.05570885  0.06644528  0.06789094  0.04680664\n",
            "   0.00538756 -0.0436301  -0.016081   -0.04380221  0.03287889  0.02717488\n",
            "   0.07726258 -0.03476176  0.04941291 -0.04780804 -0.06722548 -0.03999321\n",
            "   0.04609872 -0.07262187 -0.049371   -0.02302178  0.0426921  -0.04873332\n",
            "  -0.00535747 -0.0638021   0.02401638  0.02238609 -0.01814525 -0.0130974\n",
            "  -0.07853253  0.04900156  0.05013118  0.03488167  0.02986488  0.06268234\n",
            "   0.02924682  0.00292318 -0.03654696 -0.00211659 -0.04967089  0.03683633\n",
            "   0.03311553 -0.01917423  0.03651289  0.03151751 -0.05343851 -0.04731528\n",
            "   0.00265014  0.07679356 -0.01191545 -0.004975    0.07273997  0.07618505\n",
            "   0.01676458  0.06464238 -0.06779568 -0.0310847  -0.05716117 -0.00596292\n",
            "  -0.01255259 -0.05578898 -0.07892826  0.00236827 -0.04582135 -0.01005049\n",
            "  -0.02244414 -0.02921572 -0.0195511   0.02570308  0.07372902  0.06204107\n",
            "  -0.0265436  -0.00705009 -0.02058683 -0.06130768  0.01537928 -0.0360969\n",
            "   0.04942094 -0.04731594 -0.04480157 -0.02703037  0.00147344  0.0786659\n",
            "  -0.04832117  0.01515387]]\n"
          ]
        }
      ]
    },
    {
      "cell_type": "code",
      "source": [
        "\n",
        "inputs=layers.Input(shape=[],dtype=tf.string)\n",
        "#universal sentence encoder\n",
        "x=embed_layer()(inputs)\n",
        "x=layers.Dense(64,activation=\"relu\")(x)\n",
        "outputs=layers.Dense(num_classes,activation=\"softmax\")(x)\n",
        "model_2=tf.keras.Model(inputs,outputs)"
      ],
      "metadata": {
        "id": "LGNNMoUxr7yD"
      },
      "execution_count": null,
      "outputs": []
    },
    {
      "cell_type": "code",
      "source": [
        "model_2.compile(optimizer=tf.keras.optimizers.Adam(),loss=\"sparse_categorical_crossentropy\",metrics=[\"accuracy\"])"
      ],
      "metadata": {
        "id": "12VSmV9ey40W"
      },
      "execution_count": null,
      "outputs": []
    },
    {
      "cell_type": "code",
      "source": [
        "history_2=model_2.fit(train_dataset,steps_per_epoch=int(0.1*len(train_dataset)),validation_data=val_dataset,validation_steps=len(val_dataset),epochs=3)\n"
      ],
      "metadata": {
        "colab": {
          "base_uri": "https://localhost:8080/",
          "height": 463
        },
        "id": "389UOJSlrwoi",
        "outputId": "de0f78aa-3cb5-4d7d-a2c5-5e405ff95eb2"
      },
      "execution_count": null,
      "outputs": [
        {
          "output_type": "stream",
          "name": "stdout",
          "text": [
            "Epoch 1/3\n",
            "\u001b[1m562/562\u001b[0m \u001b[32m━━━━━━━━━━━━━━━━━━━━\u001b[0m\u001b[37m\u001b[0m \u001b[1m22s\u001b[0m 34ms/step - accuracy: 0.5571 - loss: 1.1523 - val_accuracy: 0.6895 - val_loss: 0.8105\n",
            "Epoch 2/3\n",
            "\u001b[1m560/562\u001b[0m \u001b[32m━━━━━━━━━━━━━━━━━━━\u001b[0m\u001b[37m━\u001b[0m \u001b[1m0s\u001b[0m 15ms/step - accuracy: 0.6956 - loss: 0.7849"
          ]
        },
        {
          "output_type": "stream",
          "name": "stderr",
          "text": [
            "/usr/lib/python3.10/contextlib.py:153: UserWarning: Your input ran out of data; interrupting training. Make sure that your dataset or generator can generate at least `steps_per_epoch * epochs` batches. You may need to use the `.repeat()` function when building your dataset.\n",
            "  self.gen.throw(typ, value, traceback)\n"
          ]
        },
        {
          "output_type": "error",
          "ename": "AttributeError",
          "evalue": "'NoneType' object has no attribute 'items'",
          "traceback": [
            "\u001b[0;31m---------------------------------------------------------------------------\u001b[0m",
            "\u001b[0;31mAttributeError\u001b[0m                            Traceback (most recent call last)",
            "\u001b[0;32m<ipython-input-119-e54722f11220>\u001b[0m in \u001b[0;36m<cell line: 1>\u001b[0;34m()\u001b[0m\n\u001b[0;32m----> 1\u001b[0;31m \u001b[0mhistory_2\u001b[0m\u001b[0;34m=\u001b[0m\u001b[0mmodel_2\u001b[0m\u001b[0;34m.\u001b[0m\u001b[0mfit\u001b[0m\u001b[0;34m(\u001b[0m\u001b[0mtrain_dataset\u001b[0m\u001b[0;34m,\u001b[0m\u001b[0msteps_per_epoch\u001b[0m\u001b[0;34m=\u001b[0m\u001b[0mint\u001b[0m\u001b[0;34m(\u001b[0m\u001b[0;36m0.1\u001b[0m\u001b[0;34m*\u001b[0m\u001b[0mlen\u001b[0m\u001b[0;34m(\u001b[0m\u001b[0mtrain_dataset\u001b[0m\u001b[0;34m)\u001b[0m\u001b[0;34m)\u001b[0m\u001b[0;34m,\u001b[0m\u001b[0mvalidation_data\u001b[0m\u001b[0;34m=\u001b[0m\u001b[0mval_dataset\u001b[0m\u001b[0;34m,\u001b[0m\u001b[0mvalidation_steps\u001b[0m\u001b[0;34m=\u001b[0m\u001b[0mlen\u001b[0m\u001b[0;34m(\u001b[0m\u001b[0mval_dataset\u001b[0m\u001b[0;34m)\u001b[0m\u001b[0;34m,\u001b[0m\u001b[0mepochs\u001b[0m\u001b[0;34m=\u001b[0m\u001b[0;36m3\u001b[0m\u001b[0;34m)\u001b[0m\u001b[0;34m\u001b[0m\u001b[0;34m\u001b[0m\u001b[0m\n\u001b[0m",
            "\u001b[0;32m/usr/local/lib/python3.10/dist-packages/keras/src/utils/traceback_utils.py\u001b[0m in \u001b[0;36merror_handler\u001b[0;34m(*args, **kwargs)\u001b[0m\n\u001b[1;32m    120\u001b[0m             \u001b[0;31m# To get the full stack trace, call:\u001b[0m\u001b[0;34m\u001b[0m\u001b[0;34m\u001b[0m\u001b[0m\n\u001b[1;32m    121\u001b[0m             \u001b[0;31m# `keras.config.disable_traceback_filtering()`\u001b[0m\u001b[0;34m\u001b[0m\u001b[0;34m\u001b[0m\u001b[0m\n\u001b[0;32m--> 122\u001b[0;31m             \u001b[0;32mraise\u001b[0m \u001b[0me\u001b[0m\u001b[0;34m.\u001b[0m\u001b[0mwith_traceback\u001b[0m\u001b[0;34m(\u001b[0m\u001b[0mfiltered_tb\u001b[0m\u001b[0;34m)\u001b[0m \u001b[0;32mfrom\u001b[0m \u001b[0;32mNone\u001b[0m\u001b[0;34m\u001b[0m\u001b[0;34m\u001b[0m\u001b[0m\n\u001b[0m\u001b[1;32m    123\u001b[0m         \u001b[0;32mfinally\u001b[0m\u001b[0;34m:\u001b[0m\u001b[0;34m\u001b[0m\u001b[0;34m\u001b[0m\u001b[0m\n\u001b[1;32m    124\u001b[0m             \u001b[0;32mdel\u001b[0m \u001b[0mfiltered_tb\u001b[0m\u001b[0;34m\u001b[0m\u001b[0;34m\u001b[0m\u001b[0m\n",
            "\u001b[0;32m/usr/local/lib/python3.10/dist-packages/keras/src/backend/tensorflow/trainer.py\u001b[0m in \u001b[0;36mfit\u001b[0;34m(self, x, y, batch_size, epochs, verbose, callbacks, validation_split, validation_data, shuffle, class_weight, sample_weight, initial_epoch, steps_per_epoch, validation_steps, validation_batch_size, validation_freq)\u001b[0m\n\u001b[1;32m    352\u001b[0m                 )\n\u001b[1;32m    353\u001b[0m                 val_logs = {\n\u001b[0;32m--> 354\u001b[0;31m                     \u001b[0;34m\"val_\"\u001b[0m \u001b[0;34m+\u001b[0m \u001b[0mname\u001b[0m\u001b[0;34m:\u001b[0m \u001b[0mval\u001b[0m \u001b[0;32mfor\u001b[0m \u001b[0mname\u001b[0m\u001b[0;34m,\u001b[0m \u001b[0mval\u001b[0m \u001b[0;32min\u001b[0m \u001b[0mval_logs\u001b[0m\u001b[0;34m.\u001b[0m\u001b[0mitems\u001b[0m\u001b[0;34m(\u001b[0m\u001b[0;34m)\u001b[0m\u001b[0;34m\u001b[0m\u001b[0;34m\u001b[0m\u001b[0m\n\u001b[0m\u001b[1;32m    355\u001b[0m                 }\n\u001b[1;32m    356\u001b[0m                 \u001b[0mepoch_logs\u001b[0m\u001b[0;34m.\u001b[0m\u001b[0mupdate\u001b[0m\u001b[0;34m(\u001b[0m\u001b[0mval_logs\u001b[0m\u001b[0;34m)\u001b[0m\u001b[0;34m\u001b[0m\u001b[0;34m\u001b[0m\u001b[0m\n",
            "\u001b[0;31mAttributeError\u001b[0m: 'NoneType' object has no attribute 'items'"
          ]
        }
      ]
    },
    {
      "cell_type": "code",
      "source": [
        "model_2.evaluate(val_dataset)"
      ],
      "metadata": {
        "id": "XTFx55jLzCbm"
      },
      "execution_count": null,
      "outputs": []
    },
    {
      "cell_type": "code",
      "source": [
        "model_2_preds_probs=model_2.predict(val_dataset)\n",
        "model_2_preds_probs.shape"
      ],
      "metadata": {
        "id": "Xoj4Qj0zP7hg"
      },
      "execution_count": null,
      "outputs": []
    },
    {
      "cell_type": "code",
      "source": [
        "model_2_preds=tf.argmax(model_2_preds_probs,axis=1)\n",
        "model_2_preds"
      ],
      "metadata": {
        "id": "wD0agHdfQEMS"
      },
      "execution_count": null,
      "outputs": []
    },
    {
      "cell_type": "code",
      "source": [
        "model_2_results = calculate_results(y_true=val_labels_encoded, y_pred=model_2_preds)\n",
        "model_2_results"
      ],
      "metadata": {
        "id": "jJb4OlbAQP2f"
      },
      "execution_count": null,
      "outputs": []
    },
    {
      "cell_type": "markdown",
      "source": [
        "#Model 3 : conv1d with character embeddings"
      ],
      "metadata": {
        "id": "MiEMYm8VREqj"
      }
    },
    {
      "cell_type": "code",
      "source": [
        "def split_chars(text):\n",
        "  return \" \".join(list(text))"
      ],
      "metadata": {
        "id": "6BgUHUImQT3Z"
      },
      "execution_count": null,
      "outputs": []
    },
    {
      "cell_type": "code",
      "source": [
        "random_sentence"
      ],
      "metadata": {
        "colab": {
          "base_uri": "https://localhost:8080/",
          "height": 70
        },
        "id": "h0Y_HuzdR5WA",
        "outputId": "ec6ca86a-9479-4218-90f5-31a73e126940"
      },
      "execution_count": null,
      "outputs": [
        {
          "output_type": "execute_result",
          "data": {
            "text/plain": [
              "\"['the dash diet was designed to be rich in fruits , vegetables , whole grains , and low-fat dairy products and to be low in saturated fats , cholesterol , and refined grains .']\""
            ],
            "application/vnd.google.colaboratory.intrinsic+json": {
              "type": "string"
            }
          },
          "metadata": {},
          "execution_count": 131
        }
      ]
    },
    {
      "cell_type": "code",
      "source": [
        "val=split_chars(random_sentence)\n",
        "val"
      ],
      "metadata": {
        "colab": {
          "base_uri": "https://localhost:8080/",
          "height": 105
        },
        "id": "ibhJO-StRkqE",
        "outputId": "5e78d4ae-645b-4eb2-8932-9a52478e040f"
      },
      "execution_count": null,
      "outputs": [
        {
          "output_type": "execute_result",
          "data": {
            "text/plain": [
              "\"[ ' t h e   d a s h   d i e t   w a s   d e s i g n e d   t o   b e   r i c h   i n   f r u i t s   ,   v e g e t a b l e s   ,   w h o l e   g r a i n s   ,   a n d   l o w - f a t   d a i r y   p r o d u c t s   a n d   t o   b e   l o w   i n   s a t u r a t e d   f a t s   ,   c h o l e s t e r o l   ,   a n d   r e f i n e d   g r a i n s   . ' ]\""
            ],
            "application/vnd.google.colaboratory.intrinsic+json": {
              "type": "string"
            }
          },
          "metadata": {},
          "execution_count": 132
        }
      ]
    },
    {
      "cell_type": "code",
      "source": [
        "train_chars=[split_chars(sentence) for sentence in train_sentences]\n",
        "val_chars=[split_chars(sentence) for sentence in val_sentences]\n",
        "test_chars=[split_chars(sentence) for sentence in test_sentences]\n",
        "train_chars[:3]"
      ],
      "metadata": {
        "colab": {
          "base_uri": "https://localhost:8080/"
        },
        "id": "DP833oJ6Rxze",
        "outputId": "c47269f4-69f0-4d2a-a5bc-a5f60f149ed8"
      },
      "execution_count": null,
      "outputs": [
        {
          "output_type": "execute_result",
          "data": {
            "text/plain": [
              "[\"[ ' t o   i n v e s t i g a t e   t h e   e f f i c a c y   o f   @   w e e k s   o f   d a i l y   l o w - d o s e   o r a l   p r e d n i s o l o n e   i n   i m p r o v i n g   p a i n   ,   m o b i l i t y   ,   a n d   s y s t e m i c   l o w - g r a d e   i n f l a m m a t i o n   i n   t h e   s h o r t   t e r m   a n d   w h e t h e r   t h e   e f f e c t   w o u l d   b e   s u s t a i n e d   a t   @   w e e k s   i n   o l d e r   a d u l t s   w i t h   m o d e r a t e   t o   s e v e r e   k n e e   o s t e o a r t h r i t i s   (   o a   )   . ' ]\",\n",
              " \"[ ' a   t o t a l   o f   @   p a t i e n t s   w i t h   p r i m a r y   k n e e   o a   w e r e   r a n d o m i z e d   @ : @   ;   @   r e c e i v e d   @   m g / d a y   o f   p r e d n i s o l o n e   a n d   @   r e c e i v e d   p l a c e b o   f o r   @   w e e k s   . ' ]\",\n",
              " \"[ ' o u t c o m e   m e a s u r e s   i n c l u d e d   p a i n   r e d u c t i o n   a n d   i m p r o v e m e n t   i n   f u n c t i o n   s c o r e s   a n d   s y s t e m i c   i n f l a m m a t i o n   m a r k e r s   . ' ]\"]"
            ]
          },
          "metadata": {},
          "execution_count": 133
        }
      ]
    },
    {
      "cell_type": "code",
      "source": [
        "#average character length?\n",
        "char_lens=[len(sentence) for sentence in train_sentences]\n",
        "mean_char_len=np.mean(char_lens)\n",
        "mean_char_len"
      ],
      "metadata": {
        "colab": {
          "base_uri": "https://localhost:8080/"
        },
        "id": "MJAr4YIMSI81",
        "outputId": "7bea19b3-6266-4a74-f52a-fba90b4ef3cc"
      },
      "execution_count": null,
      "outputs": [
        {
          "output_type": "execute_result",
          "data": {
            "text/plain": [
              "153.36626305265497"
            ]
          },
          "metadata": {},
          "execution_count": 134
        }
      ]
    },
    {
      "cell_type": "code",
      "source": [
        "import matplotlib.pyplot as plt\n",
        "plt.hist(char_lens,bins=7)"
      ],
      "metadata": {
        "colab": {
          "base_uri": "https://localhost:8080/",
          "height": 517
        },
        "id": "5CD6CZdDSidA",
        "outputId": "8a435f79-fd4f-4194-818d-ad70ff4b9b5d"
      },
      "execution_count": null,
      "outputs": [
        {
          "output_type": "execute_result",
          "data": {
            "text/plain": [
              "(array([1.41175e+05, 3.71110e+04, 1.60000e+03, 1.27000e+02, 2.10000e+01,\n",
              "        5.00000e+00, 1.00000e+00]),\n",
              " array([   5.        ,  202.85714286,  400.71428571,  598.57142857,\n",
              "         796.42857143,  994.28571429, 1192.14285714, 1390.        ]),\n",
              " <BarContainer object of 7 artists>)"
            ]
          },
          "metadata": {},
          "execution_count": 135
        },
        {
          "output_type": "display_data",
          "data": {
            "text/plain": [
              "<Figure size 640x480 with 1 Axes>"
            ],
            "image/png": "[encoded data removed]"
          },
          "metadata": {}
        }
      ]
    },
    {
      "cell_type": "code",
      "source": [
        "#95 percent of alphabets\n",
        "output_seq_char_len=int(np.percentile(char_lens,95))\n",
        "output_seq_char_len"
      ],
      "metadata": {
        "colab": {
          "base_uri": "https://localhost:8080/"
        },
        "id": "KuUZvptHSvAN",
        "outputId": "a833ef97-fdd8-49fd-ea24-6c5f1318a5c5"
      },
      "execution_count": null,
      "outputs": [
        {
          "output_type": "execute_result",
          "data": {
            "text/plain": [
              "294"
            ]
          },
          "metadata": {},
          "execution_count": 136
        }
      ]
    },
    {
      "cell_type": "code",
      "source": [
        "#get all keyboard characters\n",
        "import string\n",
        "alphabet=string.ascii_lowercase+string.digits\n",
        "alphabet"
      ],
      "metadata": {
        "colab": {
          "base_uri": "https://localhost:8080/",
          "height": 36
        },
        "id": "zyqMR_NeS9VN",
        "outputId": "df2c670c-3efb-4964-9fbf-2072d2968f86"
      },
      "execution_count": null,
      "outputs": [
        {
          "output_type": "execute_result",
          "data": {
            "text/plain": [
              "'abcdefghijklmnopqrstuvwxyz0123456789'"
            ],
            "application/vnd.google.colaboratory.intrinsic+json": {
              "type": "string"
            }
          },
          "metadata": {},
          "execution_count": 137
        }
      ]
    },
    {
      "cell_type": "code",
      "source": [
        "#create char-level token vectorizer instance\n",
        "NUM_CHAR_TOKENS=len(alphabet)+2 #add 2 for space and OOV token (out of vocab ,\"[UNK]\")\n",
        "char_vectorizer =TextVectorization(max_tokens=NUM_CHAR_TOKENS,output_sequence_length=output_seq_char_len)"
      ],
      "metadata": {
        "id": "LJpv-1jPTOeP"
      },
      "execution_count": null,
      "outputs": []
    },
    {
      "cell_type": "code",
      "source": [
        "char_vectorizer.adapt(train_chars)"
      ],
      "metadata": {
        "id": "b22YM7kBanjl"
      },
      "execution_count": null,
      "outputs": []
    },
    {
      "cell_type": "code",
      "source": [
        "char_vocab=char_vectorizer.get_vocabulary()\n",
        "print(f\"no of different characters in character vocab {len(char_vocab)}\")\n",
        "print(f\"5 most common characters: {char_vocab[:5]}\")\n",
        "print(f\"5 least common characters: {char_vocab[-5:]}\")"
      ],
      "metadata": {
        "colab": {
          "base_uri": "https://localhost:8080/"
        },
        "id": "LIqSiJbqa2D2",
        "outputId": "78e8fa88-1d42-478d-c314-3b20f05c6da0"
      },
      "execution_count": null,
      "outputs": [
        {
          "output_type": "stream",
          "name": "stdout",
          "text": [
            "no of different characters in character vocab 28\n",
            "5 most common characters: ['', '[UNK]', 'e', 't', 'i']\n",
            "5 least common characters: ['k', 'x', 'z', 'q', 'j']\n"
          ]
        }
      ]
    },
    {
      "cell_type": "code",
      "source": [
        "random_chars=random.choice(train_chars)\n",
        "print(f\"charified text:\\n {random_chars}\")\n",
        "print(f\"5 most common character  {char_vectorizer(random_chars)[:5]}\")\n",
        "print(f\"5 least common character {char_vectorizer(random_chars)[-5:]}\")"
      ],
      "metadata": {
        "colab": {
          "base_uri": "https://localhost:8080/"
        },
        "id": "q9qr5-F0a60q",
        "outputId": "7c2022a0-6c72-456c-a180-72620fd8c309"
      },
      "execution_count": null,
      "outputs": [
        {
          "output_type": "stream",
          "name": "stdout",
          "text": [
            "charified text:\n",
            " [ ' a g a i n   ,   t h e   e f f e c t   i n c r e a s e d   w i t h   m a t e r n a l   b m i   (   - @   ,   + @   ,   a n d   + @   g   ;   p - i n t e r a c t i o n   =   @   )   . ' ]\n",
            "5 most common character  [ 5 18  5  4  6]\n",
            "5 least common character [0 0 0 0 0]\n"
          ]
        }
      ]
    },
    {
      "cell_type": "code",
      "source": [
        "char_embed=layers.Embedding(input_dim=len(char_vocab),output_dim=25,mask_zero=True,input_length=output_seq_char_len,name=\"char_embed\")\n"
      ],
      "metadata": {
        "id": "12VVIIBLbayM",
        "colab": {
          "base_uri": "https://localhost:8080/"
        },
        "outputId": "8b8a912d-5910-41d5-eb43-7841e452006f"
      },
      "execution_count": null,
      "outputs": [
        {
          "output_type": "stream",
          "name": "stderr",
          "text": [
            "/usr/local/lib/python3.10/dist-packages/keras/src/layers/core/embedding.py:90: UserWarning: Argument `input_length` is deprecated. Just remove it.\n",
            "  warnings.warn(\n"
          ]
        }
      ]
    },
    {
      "cell_type": "code",
      "source": [
        "print(f\"charified text :\\n {random_chars}\")\n",
        "char_embed_example=char_embed(char_vectorizer(random_chars))\n",
        "print(f\"embedded chars  after vectorization and embedding {char_embed_example}\")\n",
        "print(f\"character embedding shape: {char_embed_example.shape}\")"
      ],
      "metadata": {
        "id": "w4YE3YjXcUhH"
      },
      "execution_count": null,
      "outputs": []
    },
    {
      "cell_type": "code",
      "source": [
        "inputs=layers.Input(shape=(1,),dtype=tf.string)\n",
        "x=char_vectorizer(inputs)\n",
        "x=char_embed(x)\n",
        "x=tf.keras.layers.Conv1D(filters=64,kernel_size=5,activation=\"relu\",padding=\"same\")(x)\n",
        "x=tf.keras.layers.GlobalMaxPooling1D()(x)\n",
        "outputs=tf.keras.layers.Dense(num_classes,activation=\"softmax\")(x)\n",
        "model_3=tf.keras.Model(inputs,outputs)"
      ],
      "metadata": {
        "id": "240WKtnNcfzr"
      },
      "execution_count": null,
      "outputs": []
    },
    {
      "cell_type": "code",
      "source": [
        "train_chars_dataset=tf.data.Dataset.from_tensor_slices((train_chars,train_labels_encoded))\n",
        "val_chars_dataset=tf.data.Dataset.from_tensor_slices((val_chars,val_labels_encoded))\n",
        "test_chars_dataset=tf.data.Dataset.from_tensor_slices((test_chars,test_labels_encoded))"
      ],
      "metadata": {
        "id": "3SmbrbPGh67Q"
      },
      "execution_count": null,
      "outputs": []
    },
    {
      "cell_type": "code",
      "source": [
        "train_chars_dataset=train_chars_dataset.batch(32).prefetch(tf.data.AUTOTUNE)\n",
        "test_chars_dataset=test_chars_dataset.batch(32).prefetch(tf.data.AUTOTUNE)\n",
        "val_chars_dataset=val_chars_dataset.batch(32).prefetch(tf.data.AUTOTUNE)"
      ],
      "metadata": {
        "id": "Ijg-8lm0iktb"
      },
      "execution_count": null,
      "outputs": []
    },
    {
      "cell_type": "code",
      "source": [
        "model_3.compile(loss=\"sparse_categorical_crossentropy\",optimizer=tf.keras.optimizers.Adam(),metrics=[\"accuracy\"])"
      ],
      "metadata": {
        "id": "gU4DyreHg_dA"
      },
      "execution_count": null,
      "outputs": []
    },
    {
      "cell_type": "code",
      "source": [
        "history_3=model_3.fit(train_chars_dataset,steps_per_epoch=int(0.1*len(train_chars_dataset)),validation_data=val_chars_dataset,validation_steps=len(val_chars_dataset),epochs=3)"
      ],
      "metadata": {
        "id": "vzKuLl90j-PL"
      },
      "execution_count": null,
      "outputs": []
    },
    {
      "cell_type": "code",
      "source": [
        "model_3_preds_probs=model_3.predict(val_chars)\n",
        "model_3_preds_probs"
      ],
      "metadata": {
        "id": "zhqcsKxlhMyy"
      },
      "execution_count": null,
      "outputs": []
    },
    {
      "cell_type": "code",
      "source": [
        "model_3_preds=tf.argmax(model_3_preds_probs,axis=1)"
      ],
      "metadata": {
        "id": "_Mt6B4fMhUV1"
      },
      "execution_count": null,
      "outputs": []
    },
    {
      "cell_type": "code",
      "source": [
        "model_3_results=calculate_results(y_true=val_labels_encoded,y_pred=model_3_preds)\n",
        "model_3_results"
      ],
      "metadata": {
        "id": "OEwEQ-iulhJO"
      },
      "execution_count": null,
      "outputs": []
    },
    {
      "cell_type": "markdown",
      "source": [
        "#Model 4 : multi modal model\n",
        "\n",
        "1.create a token-level embedding model \\n\n",
        "2.create  a character-level model \\n\n",
        "3.combine  1 and 2"
      ],
      "metadata": {
        "id": "r54s_MMml8_X"
      }
    },
    {
      "cell_type": "code",
      "source": [
        "#setting up token inputs\n",
        "token_inputs=layers.Input(shape=[],dtype=tf.string,name=\"token_inputs\")\n",
        "token_embeddings=use_embedding(token_inputs)\n",
        "token_output=layers.Dense(128,activation=\"relu\")(token_embeddings)\n",
        "token_model=tf.keras.Model(inputs=token_inputs,outputs=token_output)\n",
        "\n",
        "#setting up character inputs/model\n",
        "char_inputs=layers.Input(shape=(1,),dtype=tf.string,name=\"char_inputs\")\n",
        "x=char_vectorizer(char_inputs)\n",
        "x=char_embed(x)\n",
        "char_bi_lstm_output=layers.Bidirectional(layers.LSTM(24))(x)\n",
        "char_model=tf.keras.Model(char_inputs,char_bi_lstm_output)\n",
        "#concatenate token and char\n",
        "token_char_concat=layers.Concatenate(name=\"concatenate_layer\")([token_output,char_bi_lstm_output])\n",
        "\n",
        "#create output layers -adding dropout ,discussed\n",
        "combined_dropout=layers.Dropout(0.5,name=\"first_dropout\")(token_char_concat)\n",
        "combined_dense=layers.Dense(128,activation=\"relu\")(combined_dropout)\n",
        "final_droput=layers.Dropout(0.5,name=\"final_dropout\")(combined_dense)\n",
        "output_layer=layers.Dense(num_classes,activation=\"softmax\")\n",
        "\n",
        "model_4=tf.keras.Model(inputs=[token_model.input,char_model.input],outputs=output_layer(final_droput),name=\"model_4_token_char_embeddings\")"
      ],
      "metadata": {
        "id": "ce7tFQi8moa2"
      },
      "execution_count": null,
      "outputs": []
    },
    {
      "cell_type": "code",
      "source": [
        "token_inputs = layers.Input(shape=[], dtype=tf.string, name=\"token_input\")\n",
        "token_embeddings = use_embedding(token_inputs)\n",
        "token_output = layers.Dense(128, activation=\"relu\")(token_embeddings)\n",
        "token_model = tf.keras.Model(inputs=token_inputs,\n",
        "                             outputs=token_output)\n",
        "\n",
        "# 2. Setup char inputs/model\n",
        "char_inputs = layers.Input(shape=(1,), dtype=tf.string, name=\"char_input\")\n",
        "char_vectors = char_vectorizer(char_inputs)\n",
        "char_embeddings = char_embed(char_vectors)\n",
        "char_bi_lstm = layers.Bidirectional(layers.LSTM(25))(char_embeddings) # bi-LSTM shown in Figure 1 of https://arxiv.org/pdf/1612.05251.pdf\n",
        "char_model = tf.keras.Model(inputs=char_inputs,\n",
        "                            outputs=char_bi_lstm)\n",
        "\n",
        "# 3. Concatenate token and char inputs (create hybrid token embedding)\n",
        "token_char_concat = layers.Concatenate(name=\"token_char_hybrid\")([token_model.output,\n",
        "                                                                  char_model.output])\n",
        "\n",
        "# 4. Create output layers - addition of dropout discussed in 4.2 of https://arxiv.org/pdf/1612.05251.pdf\n",
        "combined_dropout = layers.Dropout(0.5)(token_char_concat)\n",
        "combined_dense = layers.Dense(200, activation=\"relu\")(combined_dropout) # slightly different to Figure 1 due to different shapes of token/char embedding layers\n",
        "final_dropout = layers.Dropout(0.5)(combined_dense)\n",
        "output_layer = layers.Dense(num_classes, activation=\"softmax\")(final_dropout)\n",
        "\n",
        "# 5. Construct model with char and token inputs\n",
        "model_conv1d_4 = tf.keras.Model(inputs=[token_model.input, char_model.input],\n",
        "                         outputs=output_layer,\n",
        "                         name=\"model_4_token_and_char_embeddings\")\n"
      ],
      "metadata": {
        "id": "GHzoxGuc06uX"
      },
      "execution_count": null,
      "outputs": []
    },
    {
      "cell_type": "code",
      "source": [
        "model_conv1d_4.summary()"
      ],
      "metadata": {
        "id": "J9lGvQN1moYm"
      },
      "execution_count": null,
      "outputs": []
    },
    {
      "cell_type": "code",
      "source": [
        "#plot hybrid token and character model\n",
        "from keras.utils import plot_model\n",
        "plot_model(model_conv1d_4,show_shapes=True)"
      ],
      "metadata": {
        "id": "0ZgI_ErZlyDB"
      },
      "execution_count": null,
      "outputs": []
    },
    {
      "cell_type": "code",
      "source": [
        "model_conv1d_4.compile(loss=\"sparse_categorical_crossentropy\",optimizer=tf.keras.optimizers.Adam(),metrics=[\"accuracy\"])"
      ],
      "metadata": {
        "id": "4t_KjxWop6_8"
      },
      "execution_count": null,
      "outputs": []
    },
    {
      "cell_type": "code",
      "source": [
        "num_classes"
      ],
      "metadata": {
        "id": "BY_Ied53mbhU"
      },
      "execution_count": null,
      "outputs": []
    },
    {
      "cell_type": "code",
      "source": [
        "train_labels_one_hot.shape"
      ],
      "metadata": {
        "id": "e5NLDzkfo9N8"
      },
      "execution_count": null,
      "outputs": []
    },
    {
      "cell_type": "code",
      "source": [
        "train_char_token_data = tf.data.Dataset.from_tensor_slices((train_sentences, train_chars)) # make data\n",
        "train_char_token_labels = tf.data.Dataset.from_tensor_slices(train_labels_encoded) # make labels\n",
        "train_char_token_dataset = tf.data.Dataset.zip((train_char_token_data, train_char_token_labels)) # combine data and labels\n",
        "\n",
        "# Prefetch and batch train data\n",
        "train_char_token_dataset = train_char_token_dataset.batch(32).prefetch(tf.data.AUTOTUNE)\n",
        "\n",
        "# Repeat same steps validation data\n",
        "val_char_token_data = tf.data.Dataset.from_tensor_slices((val_sentences, val_chars))\n",
        "val_char_token_labels = tf.data.Dataset.from_tensor_slices(val_labels_encoded)\n",
        "val_char_token_dataset = tf.data.Dataset.zip((val_char_token_data, val_char_token_labels))\n",
        "val_char_token_dataset = val_char_token_dataset.batch(32).prefetch(tf.data.AUTOTUNE)\n",
        "\n",
        "test_char_token_data=tf.data.Dataset.from_tensor_slices((test_sentences,test_chars))\n",
        "test_char_token_labels=tf.data.Dataset.from_tensor_slices((test_labels_encoded))\n",
        "test_char_token_dataset=tf.data.Dataset.zip((test_char_token_data,test_char_token_labels))\n",
        "test_char_token_dataset=test_char_token_dataset.batch(32).prefetch(tf.data.AUTOTUNE)"
      ],
      "metadata": {
        "id": "09kvIHwTlOx1"
      },
      "execution_count": null,
      "outputs": []
    },
    {
      "cell_type": "code",
      "source": [],
      "metadata": {
        "id": "lWdXbfZEuARI"
      },
      "execution_count": null,
      "outputs": []
    },
    {
      "cell_type": "code",
      "source": [
        "model_4_history = model_conv1d_4.fit(train_char_token_dataset, # train on dataset of token and characters\n",
        "                              steps_per_epoch=int(0.1*len(train_char_token_dataset)),epochs=3,\n",
        "                              validation_data=val_char_token_dataset,\n",
        "                              validation_steps=int(0.1 * len(val_char_token_dataset)))\n"
      ],
      "metadata": {
        "id": "Q753y1eW1OPI"
      },
      "execution_count": null,
      "outputs": []
    },
    {
      "cell_type": "code",
      "source": [
        "model_4_preds_probs=model_conv1d_4.predict(val_char_token_dataset)\n",
        "model_4_preds_probs"
      ],
      "metadata": {
        "id": "ofPVtzoftHea"
      },
      "execution_count": null,
      "outputs": []
    },
    {
      "cell_type": "code",
      "source": [
        "model_4_preds=tf.argmax(model_4_preds_probs,axis=1)\n",
        "model_4_preds"
      ],
      "metadata": {
        "id": "mL2VHDnTr2-O"
      },
      "execution_count": null,
      "outputs": []
    },
    {
      "cell_type": "code",
      "source": [
        "model_4_results=calculate_results(y_true=val_labels_encoded,y_pred=model_4_preds)\n",
        "model_4_results"
      ],
      "metadata": {
        "id": "awGRQGHzr2FO"
      },
      "execution_count": null,
      "outputs": []
    },
    {
      "cell_type": "markdown",
      "source": [
        "#Model 5:pretrained embedding +positional embeddings"
      ],
      "metadata": {
        "id": "y9ecWPgdu61H"
      }
    },
    {
      "cell_type": "code",
      "source": [
        "train_df"
      ],
      "metadata": {
        "id": "bLi5ggndvrQR"
      },
      "execution_count": null,
      "outputs": []
    },
    {
      "cell_type": "code",
      "source": [
        "##label sequence optimization layer\n",
        "#ANY ENGINEER FEATURE SHOULD BE AVAILABLE AT RUNTIME\n",
        "\n",
        "#input =seq of probability vectors from label predictionlayer\n",
        "#outputs= seq of labels assigned to a token\n",
        "df=pd.DataFrame(train_df[\"target\"],train_df[\"line_number\"])\n",
        "df_2=df.groupby(\"target\").get_group(\"OBJECTIVE\")\n",
        "print(df_2)"
      ],
      "metadata": {
        "id": "jdVWcudgspi_"
      },
      "execution_count": null,
      "outputs": []
    },
    {
      "cell_type": "code",
      "source": [
        "#ANY ENGINEER FEATURE SHOULD BE AVAILABLE AT RUNTIME\n",
        "train_df[\"line_number\"].value_counts()"
      ],
      "metadata": {
        "id": "cSu7rH1FvOkc"
      },
      "execution_count": null,
      "outputs": []
    },
    {
      "cell_type": "code",
      "source": [
        "#check distribution\n",
        "train_df.line_number.plot(kind=\"hist\");"
      ],
      "metadata": {
        "id": "gcFj8b2z5Mc7"
      },
      "execution_count": null,
      "outputs": []
    },
    {
      "cell_type": "code",
      "source": [
        "#one hot encoded\n",
        "train_line_numbers_one_hot=tf.one_hot(train_df[\"line_number\"].to_numpy(),depth=15)\n",
        "val_line_numbers_one_hot=tf.one_hot(val_df[\"line_number\"].to_numpy(),depth=15)\n",
        "test_line_numbers_one_hot=tf.one_hot(test_df[\"line_number\"].to_numpy(),depth=15)\n",
        "train_line_numbers_one_hot[:10]\n"
      ],
      "metadata": {
        "id": "GDppTrbz5ZhI"
      },
      "execution_count": null,
      "outputs": []
    },
    {
      "cell_type": "code",
      "source": [
        "line_no_percentile=np.percentile(train_df[\"line_number\"],95)\n",
        "print(line_no_percentile)\n"
      ],
      "metadata": {
        "id": "2i3Zp9D7AGaS"
      },
      "execution_count": null,
      "outputs": []
    },
    {
      "cell_type": "code",
      "source": [
        "train_df[\"total_lines\"].value_counts()"
      ],
      "metadata": {
        "id": "cTRHXXc05umv"
      },
      "execution_count": null,
      "outputs": []
    },
    {
      "cell_type": "code",
      "source": [
        "no=np.percentile(train_df[\"total_lines\"],95)\n",
        "print(no)\n",
        "train_df.total_lines.plot(kind=\"hist\")"
      ],
      "metadata": {
        "id": "iBn9Rwcc6Li0"
      },
      "execution_count": null,
      "outputs": []
    },
    {
      "cell_type": "code",
      "source": [
        "total_line_percentile=np.percentile(train_df[\"total_lines\"],97)\n",
        "total_line_percentile"
      ],
      "metadata": {
        "id": "Z4Kl6Ylo6Zwb"
      },
      "execution_count": null,
      "outputs": []
    },
    {
      "cell_type": "code",
      "source": [
        "train_total_lines=tf.one_hot(train_df[\"total_lines\"].to_numpy(),depth=total_line_percentile)\n",
        "val_total_lines=tf.one_hot(val_df[\"total_lines\"].to_numpy(),depth=total_line_percentile)\n",
        "test_total_lines=tf.one_hot(test_df[\"total_lines\"].to_numpy(),depth=total_line_percentile)\n"
      ],
      "metadata": {
        "id": "XPDXwywQ-Rws"
      },
      "execution_count": null,
      "outputs": []
    },
    {
      "cell_type": "code",
      "source": [
        "train_line_numbers_one_hot[0].shape\n"
      ],
      "metadata": {
        "id": "cASqAjLwbqZR"
      },
      "execution_count": null,
      "outputs": []
    },
    {
      "cell_type": "code",
      "source": [
        "train_total_lines[0].shape"
      ],
      "metadata": {
        "id": "vMEuoLaBdIsv"
      },
      "execution_count": null,
      "outputs": []
    },
    {
      "cell_type": "code",
      "source": [
        "###Building a tribrid model\n",
        "token_input=layers.Input(shape=(),dtype=tf.string,name=\"token_input\")\n",
        "token_embeddings=use_embedding(token_input)\n",
        "token_output=layers.Dense(128,activation=\"softmax\")(token_embeddings)\n",
        "token_model=tf.keras.Model(inputs=token_input,outputs=token_output)\n",
        "\n",
        "#char model\n",
        "char_input=layers.Input(shape=(1,),dtype=tf.string,name=\"char_input\")\n",
        "char_vectors=char_vectorizer(char_input)\n",
        "char_embeddings=char_embed(char_vectors)\n",
        "#bi directional lstm\n",
        "char_output=layers.Bidirectional(layers.LSTM(32,activation=\"softmax\"))(char_embeddings)\n",
        "char_model=tf.keras.Model(inputs=char_input,outputs=char_output)\n",
        "\n",
        "#positional embedding\n",
        "line_number_input=layers.Input(shape=(15,),dtype=tf.int32,name=\"line_number_input\")\n",
        "#line_number_embeddings=layers.Embedding(input_dim=15,output_dim=128)(line_number_input)\n",
        "line_number_output=tf.keras.layers.Dense(32,activation=\"relu\")(line_number_input)\n",
        "line_number_model=tf.keras.Model(inputs=line_number_input,outputs=line_number_output)\n",
        "\n",
        "#total_lines\n",
        "total_lines_input=layers.Input(shape=train_total_lines[0].shape,dtype=tf.int32,name=\"total_lines_input\")\n",
        "total_embeddings=layers.Dense(32,activation=\"relu\")(total_lines_input)\n",
        "total_line_model=tf.keras.Model(inputs=total_lines_input,outputs=total_embeddings)\n",
        "\n",
        "#combine token and char embeddings\n",
        "combined_embeddings=layers.Concatenate(name=\"concatenate\",axis=1)([token_model.output,char_model.output])\n",
        "\n",
        "z=layers.Dense(256,activation=\"relu\")(combined_embeddings)\n",
        "z=layers.Dropout(0.5)(z)\n",
        "output_layer=layers.Dense(num_classes,activation=\"softmax\")(z)\n",
        "\n",
        "#TRIBRID EMBEDDINGS\n",
        "tribrid_embeddings=layers.Concatenate(name=\"tribrid_embeddings\")([line_number_model.output,total_line_model.output,z])\n",
        "#create output layer\n",
        "output_layer=layers.Dense(5,activation=\"softmax\")(tribrid_embeddings)"
      ],
      "metadata": {
        "id": "VSfgMvziBMFZ"
      },
      "execution_count": null,
      "outputs": []
    },
    {
      "cell_type": "code",
      "source": [
        "num_classes"
      ],
      "metadata": {
        "id": "xPKEVSy4j_gV"
      },
      "execution_count": null,
      "outputs": []
    },
    {
      "cell_type": "markdown",
      "source": [],
      "metadata": {
        "id": "LFwWZibPfr6L"
      }
    },
    {
      "cell_type": "code",
      "source": [
        "model_5=tf.keras.Model(inputs=[line_number_model.input,total_line_model.input,token_model.input,char_model.input],outputs=output_layer)"
      ],
      "metadata": {
        "id": "IU2QrBfSDpPb"
      },
      "execution_count": null,
      "outputs": []
    },
    {
      "cell_type": "code",
      "source": [
        "from keras.utils import plot_model\n",
        "plot_model(model_5,show_shapes=True)"
      ],
      "metadata": {
        "id": "_FB4ePjHrAVB"
      },
      "execution_count": null,
      "outputs": []
    },
    {
      "cell_type": "markdown",
      "source": [
        "What is label smoothing ?\n",
        "\n",
        "if our model gets stuck on  a class it may get stuck on that class and not consider other classes"
      ],
      "metadata": {
        "id": "T_VusfglsFMT"
      }
    },
    {
      "cell_type": "code",
      "source": [
        "model_5.compile(loss=tf.keras.losses.CategoricalCrossentropy(label_smoothing=0.2),optimizer=tf.keras.optimizers.Adam(),metrics=[\"accuracy\"])"
      ],
      "metadata": {
        "id": "5_ee-wvPsWQD"
      },
      "execution_count": null,
      "outputs": []
    },
    {
      "cell_type": "code",
      "source": [
        "train_labels_encoded.shape"
      ],
      "metadata": {
        "id": "YqstM9gCof6K"
      },
      "execution_count": null,
      "outputs": []
    },
    {
      "cell_type": "code",
      "source": [
        "# Create training and validation datasets (all four kinds of inputs)\n",
        "train_pos_char_token_data = tf.data.Dataset.from_tensor_slices((train_line_numbers_one_hot, # line numbers\n",
        "                                                                train_total_lines, # total lines\n",
        "                                                                train_sentences, # train tokens\n",
        "                                                                train_chars)) # train chars\n",
        "train_pos_char_token_labels = tf.data.Dataset.from_tensor_slices(train_labels_one_hot) # train labels\n",
        "train_pos_char_token_dataset = tf.data.Dataset.zip((train_pos_char_token_data, train_pos_char_token_labels)) # combine data and labels\n",
        "train_pos_char_token_dataset = train_pos_char_token_dataset.batch(32) #prefetch(tf.data.AUTOTUNE) # turn into batches and prefetch appropriately\n",
        "\n",
        "# Validation dataset\n",
        "val_pos_char_token_data = tf.data.Dataset.from_tensor_slices((val_line_numbers_one_hot,\n",
        "                                                              val_total_lines,\n",
        "                                                              val_sentences,\n",
        "                                                              val_chars))\n",
        "val_pos_char_token_labels = tf.data.Dataset.from_tensor_slices(val_labels_one_hot)\n",
        "val_pos_char_token_dataset = tf.data.Dataset.zip((val_pos_char_token_data, val_pos_char_token_labels))\n",
        "val_pos_char_token_dataset = val_pos_char_token_dataset.batch(32) #prefetch(tf.data.AUTOTUNE) # turn into batches and prefetch appropriately\n",
        "\n",
        "# Check input shapes\n",
        "train_pos_char_token_dataset, val_pos_char_token_dataset"
      ],
      "metadata": {
        "id": "1i4Buf4ntJrN"
      },
      "execution_count": null,
      "outputs": []
    },
    {
      "cell_type": "markdown",
      "source": [
        "Creating tribrid data"
      ],
      "metadata": {
        "id": "rw40Lmsovn8Y"
      }
    },
    {
      "cell_type": "code",
      "source": [
        "model_5_history=model_5.fit(train_pos_char_token_dataset,steps_per_epoch=int(0.1*len(train_pos_char_token_dataset)),validation_data=val_pos_char_token_dataset ,validation_steps=int(0.1*len(val_pos_char_token_dataset )),epochs=3)"
      ],
      "metadata": {
        "id": "YoBRfBK1xFui"
      },
      "execution_count": null,
      "outputs": []
    },
    {
      "cell_type": "code",
      "source": [
        "model_5_pred_probs=model_5.predict(val_pos_char_token_dataset,verbose=1)\n",
        "model_5_pred_probs"
      ],
      "metadata": {
        "id": "i-VkOhJZAgQD"
      },
      "execution_count": null,
      "outputs": []
    },
    {
      "cell_type": "code",
      "source": [
        "model_5_preds=tf.argmax(model_5_pred_probs,axis=1)"
      ],
      "metadata": {
        "id": "iYi9mK_-yKd5"
      },
      "execution_count": null,
      "outputs": []
    },
    {
      "cell_type": "code",
      "source": [
        "model_5_results=calculate_results(y_true=val_labels_encoded,y_pred=model_5_preds)\n",
        "model_5_results"
      ],
      "metadata": {
        "id": "xi1MrbHdyP5c"
      },
      "execution_count": null,
      "outputs": []
    },
    {
      "cell_type": "code",
      "source": [
        "all_model_results=pd.DataFrame({\"base_line\":baseline_results,\"model_1\":model_1_results,\"model_2\":model_2_results,\"model_3\":model_3_results,\"model_4\":model_4_results,\"model_5\":model_5_results})\n",
        "all_model_results=all_model_results.transpose()\n",
        "all_model_results[\"accuracy\"]=all_model_results[\"accuracy\"]/100\n"
      ],
      "metadata": {
        "id": "DYKnNeBWylkG"
      },
      "execution_count": null,
      "outputs": []
    },
    {
      "cell_type": "code",
      "source": [
        "all_model_results.plot(kind=\"bar\",fig=(10,7)).legend(bbox_to_anchor=(1.0,1.0))"
      ],
      "metadata": {
        "id": "-Y-N9G-RzCMc"
      },
      "execution_count": null,
      "outputs": []
    },
    {
      "cell_type": "code",
      "source": [
        "all_model_results.sort_values(\"f1\", ascending=False)[\"f1\"].plot(kind=\"bar\", figsize=(10, 7));"
      ],
      "metadata": {
        "id": "XQgk4TjuD_kk"
      },
      "execution_count": null,
      "outputs": []
    },
    {
      "cell_type": "code",
      "source": [
        "test_pos_char_token_data = tf.data.Dataset.from_tensor_slices((test_line_numbers_one_hot,\n",
        "                                                               test_total_lines,\n",
        "                                                               test_sentences,\n",
        "                                                               test_chars))\n",
        "print(f\"{len(test_pos_char_token_data)}\")\n",
        "test_pos_char_token_labels = tf.data.Dataset.from_tensor_slices(test_labels_encoded)\n",
        "print(f\"{len(test_labels_one_hot)}\")\n",
        "\n",
        "print(f\"{len(test_pos_char_token_labels)}\")\n",
        "test_pos_char_token_dataset = tf.data.Dataset.zip((test_pos_char_token_data, test_pos_char_token_labels))\n",
        "test_pos_char_token_dataset = test_pos_char_token_dataset.batch(32)#.prefetch(tf.AUTOTUNE)\n",
        "\n",
        "# Check shapes\n",
        "test_pos_char_token_dataset"
      ],
      "metadata": {
        "id": "dDWqIe_gESA0"
      },
      "execution_count": null,
      "outputs": []
    },
    {
      "cell_type": "code",
      "source": [
        "len(test_pos_char_token_dataset)"
      ],
      "metadata": {
        "id": "X_0ryvqcFRDD"
      },
      "execution_count": null,
      "outputs": []
    },
    {
      "cell_type": "code",
      "source": [
        "test_pred_probs=model_5.predict(test_pos_char_token_dataset,verbose=1)\n",
        "test_preds=tf.argmax(test_pred_probs,axis=1)\n",
        "test_preds[:10]"
      ],
      "metadata": {
        "id": "1aDcLlL1Ebds"
      },
      "execution_count": null,
      "outputs": []
    },
    {
      "cell_type": "code",
      "source": [
        "results=calculate_results(y_true=test_labels_encoded,y_pred=test_preds)\n",
        "results"
      ],
      "metadata": {
        "id": "W4PU1v4BEm4G"
      },
      "execution_count": null,
      "outputs": []
    },
    {
      "cell_type": "code",
      "source": [],
      "metadata": {
        "id": "c6iZJY9eE0aR"
      },
      "execution_count": null,
      "outputs": []
    }
  ]
}